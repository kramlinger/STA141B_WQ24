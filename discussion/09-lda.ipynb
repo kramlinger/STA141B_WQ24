{
 "cells": [
  {
   "cell_type": "markdown",
   "id": "f658e17d",
   "metadata": {},
   "source": [
    "## Exemplifying the LDA on the Facebook data set"
   ]
  },
  {
   "cell_type": "markdown",
   "id": "30bd7705",
   "metadata": {},
   "source": [
    "_Just as today's lecture, this discussion is in R_"
   ]
  },
  {
   "cell_type": "markdown",
   "id": "a50fcbaa",
   "metadata": {},
   "source": [
    "Consider the data set that is described in [this](https://psycnet.apa.org/fulltext/2016-57141-003.html) paper. You can find the data on Canvas. "
   ]
  },
  {
   "cell_type": "markdown",
   "id": "d6087a84",
   "metadata": {},
   "source": [
    "The sample data set contains psychodemographic profiles of $n_u=110,728$ Facebook users and their Facebook likes.\n",
    "\n",
    "1. *users.csv*: contains psychodemographic user profiles. It has $n_u = 110,728$ rows and nine columns: anonymized user ID,\n",
    "gender (0 for male, 1 for female), age, political views (0 for Democrat, 1 for Republican), and five personality scores, including Openness, Conscientiousness, Extroversion, Agreeableness, and Neuroticism.\n",
    "\n",
    "2. *likes.csv*: contains anonymized IDs and names of $n_L=1,580,284$ Facebook Likes. It has two columns: ID and name.\n",
    "\n",
    "3. *users-likes.csv*: contains the associations between users and their Likes, stored as user–Like pairs. It has $n_{u-L}\n",
    "=10,612,326$ rows and two columns: user ID and Like ID."
   ]
  },
  {
   "cell_type": "code",
   "execution_count": 1,
   "id": "b753485c",
   "metadata": {},
   "outputs": [],
   "source": [
    "# load the files\n",
    "users = read.csv(\"users.csv\")\n",
    "likes = read.csv(\"likes.csv\")\n",
    "ul = read.csv(\"users-likes.csv\")"
   ]
  },
  {
   "cell_type": "code",
   "execution_count": 2,
   "id": "ce4e85a8",
   "metadata": {
    "scrolled": true
   },
   "outputs": [
    {
     "name": "stdout",
     "output_type": "stream",
     "text": [
      "[1] 110728      9\n"
     ]
    },
    {
     "data": {
      "text/html": [
       "<table class=\"dataframe\">\n",
       "<caption>A data.frame: 6 × 9</caption>\n",
       "<thead>\n",
       "\t<tr><th></th><th scope=col>userid</th><th scope=col>gender</th><th scope=col>age</th><th scope=col>political</th><th scope=col>ope</th><th scope=col>con</th><th scope=col>ext</th><th scope=col>agr</th><th scope=col>neu</th></tr>\n",
       "\t<tr><th></th><th scope=col>&lt;chr&gt;</th><th scope=col>&lt;int&gt;</th><th scope=col>&lt;int&gt;</th><th scope=col>&lt;int&gt;</th><th scope=col>&lt;dbl&gt;</th><th scope=col>&lt;dbl&gt;</th><th scope=col>&lt;dbl&gt;</th><th scope=col>&lt;dbl&gt;</th><th scope=col>&lt;dbl&gt;</th></tr>\n",
       "</thead>\n",
       "<tbody>\n",
       "\t<tr><th scope=row>1</th><td>54f34605aebd63f7680e37ffd299af79</td><td>0</td><td>33</td><td> 0</td><td>1.26</td><td> 1.65</td><td> 1.17</td><td>-1.76</td><td> 0.61</td></tr>\n",
       "\t<tr><th scope=row>2</th><td>86399f8c44ba54224b2e60177ca89fa9</td><td>1</td><td>35</td><td> 0</td><td>1.07</td><td> 0.17</td><td>-0.14</td><td> 1.49</td><td> 0.30</td></tr>\n",
       "\t<tr><th scope=row>3</th><td>84fab50f3c60d1fdc83aa91b5e584a78</td><td>1</td><td>36</td><td> 0</td><td>0.89</td><td> 1.28</td><td> 0.86</td><td> 1.07</td><td> 0.99</td></tr>\n",
       "\t<tr><th scope=row>4</th><td>f3b8fdaccce12ef6352bfad4d6052fe9</td><td>0</td><td>39</td><td>NA</td><td>0.33</td><td>-1.01</td><td>-0.33</td><td>-0.68</td><td> 0.92</td></tr>\n",
       "\t<tr><th scope=row>5</th><td>8b06ea5e9cb87c61da387995450607f7</td><td>0</td><td>31</td><td>NA</td><td>0.15</td><td> 0.47</td><td> 1.17</td><td>-1.01</td><td>-0.32</td></tr>\n",
       "\t<tr><th scope=row>6</th><td>7a2ec9c1de4ec137367e66ad759ec848</td><td>0</td><td>38</td><td>NA</td><td>1.26</td><td> 0.76</td><td>-0.46</td><td>-1.76</td><td>-0.76</td></tr>\n",
       "</tbody>\n",
       "</table>\n"
      ],
      "text/latex": [
       "A data.frame: 6 × 9\n",
       "\\begin{tabular}{r|lllllllll}\n",
       "  & userid & gender & age & political & ope & con & ext & agr & neu\\\\\n",
       "  & <chr> & <int> & <int> & <int> & <dbl> & <dbl> & <dbl> & <dbl> & <dbl>\\\\\n",
       "\\hline\n",
       "\t1 & 54f34605aebd63f7680e37ffd299af79 & 0 & 33 &  0 & 1.26 &  1.65 &  1.17 & -1.76 &  0.61\\\\\n",
       "\t2 & 86399f8c44ba54224b2e60177ca89fa9 & 1 & 35 &  0 & 1.07 &  0.17 & -0.14 &  1.49 &  0.30\\\\\n",
       "\t3 & 84fab50f3c60d1fdc83aa91b5e584a78 & 1 & 36 &  0 & 0.89 &  1.28 &  0.86 &  1.07 &  0.99\\\\\n",
       "\t4 & f3b8fdaccce12ef6352bfad4d6052fe9 & 0 & 39 & NA & 0.33 & -1.01 & -0.33 & -0.68 &  0.92\\\\\n",
       "\t5 & 8b06ea5e9cb87c61da387995450607f7 & 0 & 31 & NA & 0.15 &  0.47 &  1.17 & -1.01 & -0.32\\\\\n",
       "\t6 & 7a2ec9c1de4ec137367e66ad759ec848 & 0 & 38 & NA & 1.26 &  0.76 & -0.46 & -1.76 & -0.76\\\\\n",
       "\\end{tabular}\n"
      ],
      "text/markdown": [
       "\n",
       "A data.frame: 6 × 9\n",
       "\n",
       "| <!--/--> | userid &lt;chr&gt; | gender &lt;int&gt; | age &lt;int&gt; | political &lt;int&gt; | ope &lt;dbl&gt; | con &lt;dbl&gt; | ext &lt;dbl&gt; | agr &lt;dbl&gt; | neu &lt;dbl&gt; |\n",
       "|---|---|---|---|---|---|---|---|---|---|\n",
       "| 1 | 54f34605aebd63f7680e37ffd299af79 | 0 | 33 |  0 | 1.26 |  1.65 |  1.17 | -1.76 |  0.61 |\n",
       "| 2 | 86399f8c44ba54224b2e60177ca89fa9 | 1 | 35 |  0 | 1.07 |  0.17 | -0.14 |  1.49 |  0.30 |\n",
       "| 3 | 84fab50f3c60d1fdc83aa91b5e584a78 | 1 | 36 |  0 | 0.89 |  1.28 |  0.86 |  1.07 |  0.99 |\n",
       "| 4 | f3b8fdaccce12ef6352bfad4d6052fe9 | 0 | 39 | NA | 0.33 | -1.01 | -0.33 | -0.68 |  0.92 |\n",
       "| 5 | 8b06ea5e9cb87c61da387995450607f7 | 0 | 31 | NA | 0.15 |  0.47 |  1.17 | -1.01 | -0.32 |\n",
       "| 6 | 7a2ec9c1de4ec137367e66ad759ec848 | 0 | 38 | NA | 1.26 |  0.76 | -0.46 | -1.76 | -0.76 |\n",
       "\n"
      ],
      "text/plain": [
       "  userid                           gender age political ope  con   ext   agr  \n",
       "1 54f34605aebd63f7680e37ffd299af79 0      33   0        1.26  1.65  1.17 -1.76\n",
       "2 86399f8c44ba54224b2e60177ca89fa9 1      35   0        1.07  0.17 -0.14  1.49\n",
       "3 84fab50f3c60d1fdc83aa91b5e584a78 1      36   0        0.89  1.28  0.86  1.07\n",
       "4 f3b8fdaccce12ef6352bfad4d6052fe9 0      39  NA        0.33 -1.01 -0.33 -0.68\n",
       "5 8b06ea5e9cb87c61da387995450607f7 0      31  NA        0.15  0.47  1.17 -1.01\n",
       "6 7a2ec9c1de4ec137367e66ad759ec848 0      38  NA        1.26  0.76 -0.46 -1.76\n",
       "  neu  \n",
       "1  0.61\n",
       "2  0.30\n",
       "3  0.99\n",
       "4  0.92\n",
       "5 -0.32\n",
       "6 -0.76"
      ]
     },
     "metadata": {},
     "output_type": "display_data"
    }
   ],
   "source": [
    "print(dim(users)) # 110728 users\n",
    "head(users)"
   ]
  },
  {
   "cell_type": "code",
   "execution_count": 3,
   "id": "a5276f4a",
   "metadata": {
    "scrolled": true
   },
   "outputs": [
    {
     "name": "stdout",
     "output_type": "stream",
     "text": [
      "[1] 1580284       2\n"
     ]
    },
    {
     "data": {
      "text/html": [
       "<table class=\"dataframe\">\n",
       "<caption>A data.frame: 6 × 2</caption>\n",
       "<thead>\n",
       "\t<tr><th></th><th scope=col>likeid</th><th scope=col>name</th></tr>\n",
       "\t<tr><th></th><th scope=col>&lt;chr&gt;</th><th scope=col>&lt;chr&gt;</th></tr>\n",
       "</thead>\n",
       "<tbody>\n",
       "\t<tr><th scope=row>1</th><td>3c1636c878e6eb2acfd00c6b61086e38</td><td>REIGN by Paul Gibson                             </td></tr>\n",
       "\t<tr><th scope=row>2</th><td>feca46ddb8ef04f86172ace0cb7e004c</td><td><span style=white-space:pre-wrap>Cupcake Wishes &amp; Birthday Dreams                 </span></td></tr>\n",
       "\t<tr><th scope=row>3</th><td>b65f46d64c688fe98bdbcf93a76a71fc</td><td>Yo tambiÃ©n me rei de la caÃ­da de otro jejeje   </td></tr>\n",
       "\t<tr><th scope=row>4</th><td>9c5c8bb82d2cd46fbd7582f944fe370e</td><td>Abraham Joshua Heschel Day School- Alumni Network</td></tr>\n",
       "\t<tr><th scope=row>5</th><td>2d82fa84ad79b085dc516dde154327a2</td><td>Kennesaw Farmer's Market                         </td></tr>\n",
       "\t<tr><th scope=row>6</th><td>0a7a01c82143347fc4703faa4e7f415c</td><td>Karlsruher SC                                    </td></tr>\n",
       "</tbody>\n",
       "</table>\n"
      ],
      "text/latex": [
       "A data.frame: 6 × 2\n",
       "\\begin{tabular}{r|ll}\n",
       "  & likeid & name\\\\\n",
       "  & <chr> & <chr>\\\\\n",
       "\\hline\n",
       "\t1 & 3c1636c878e6eb2acfd00c6b61086e38 & REIGN by Paul Gibson                             \\\\\n",
       "\t2 & feca46ddb8ef04f86172ace0cb7e004c & Cupcake Wishes \\& Birthday Dreams                 \\\\\n",
       "\t3 & b65f46d64c688fe98bdbcf93a76a71fc & Yo tambiÃ©n me rei de la caÃ­da de otro jejeje   \\\\\n",
       "\t4 & 9c5c8bb82d2cd46fbd7582f944fe370e & Abraham Joshua Heschel Day School- Alumni Network\\\\\n",
       "\t5 & 2d82fa84ad79b085dc516dde154327a2 & Kennesaw Farmer's Market                         \\\\\n",
       "\t6 & 0a7a01c82143347fc4703faa4e7f415c & Karlsruher SC                                    \\\\\n",
       "\\end{tabular}\n"
      ],
      "text/markdown": [
       "\n",
       "A data.frame: 6 × 2\n",
       "\n",
       "| <!--/--> | likeid &lt;chr&gt; | name &lt;chr&gt; |\n",
       "|---|---|---|\n",
       "| 1 | 3c1636c878e6eb2acfd00c6b61086e38 | REIGN by Paul Gibson                              |\n",
       "| 2 | feca46ddb8ef04f86172ace0cb7e004c | Cupcake Wishes &amp; Birthday Dreams                  |\n",
       "| 3 | b65f46d64c688fe98bdbcf93a76a71fc | Yo tambiÃ©n me rei de la caÃ­da de otro jejeje    |\n",
       "| 4 | 9c5c8bb82d2cd46fbd7582f944fe370e | Abraham Joshua Heschel Day School- Alumni Network |\n",
       "| 5 | 2d82fa84ad79b085dc516dde154327a2 | Kennesaw Farmer's Market                          |\n",
       "| 6 | 0a7a01c82143347fc4703faa4e7f415c | Karlsruher SC                                     |\n",
       "\n"
      ],
      "text/plain": [
       "  likeid                          \n",
       "1 3c1636c878e6eb2acfd00c6b61086e38\n",
       "2 feca46ddb8ef04f86172ace0cb7e004c\n",
       "3 b65f46d64c688fe98bdbcf93a76a71fc\n",
       "4 9c5c8bb82d2cd46fbd7582f944fe370e\n",
       "5 2d82fa84ad79b085dc516dde154327a2\n",
       "6 0a7a01c82143347fc4703faa4e7f415c\n",
       "  name                                             \n",
       "1 REIGN by Paul Gibson                             \n",
       "2 Cupcake Wishes & Birthday Dreams                 \n",
       "3 Yo tambiÃ©n me rei de la caÃ­da de otro jejeje   \n",
       "4 Abraham Joshua Heschel Day School- Alumni Network\n",
       "5 Kennesaw Farmer's Market                         \n",
       "6 Karlsruher SC                                    "
      ]
     },
     "metadata": {},
     "output_type": "display_data"
    }
   ],
   "source": [
    "print(dim(likes)) # 1580284 Likes\n",
    "head(likes)"
   ]
  },
  {
   "cell_type": "code",
   "execution_count": 4,
   "id": "c0104742",
   "metadata": {
    "scrolled": true
   },
   "outputs": [
    {
     "name": "stdout",
     "output_type": "stream",
     "text": [
      "[1] 10612326        2\n"
     ]
    },
    {
     "data": {
      "text/html": [
       "<table class=\"dataframe\">\n",
       "<caption>A data.frame: 6 × 2</caption>\n",
       "<thead>\n",
       "\t<tr><th></th><th scope=col>userid</th><th scope=col>likeid</th></tr>\n",
       "\t<tr><th></th><th scope=col>&lt;chr&gt;</th><th scope=col>&lt;chr&gt;</th></tr>\n",
       "</thead>\n",
       "<tbody>\n",
       "\t<tr><th scope=row>1</th><td>71bc7c0901488aec6d30f0add257e7c5</td><td>3c1636c878e6eb2acfd00c6b61086e38</td></tr>\n",
       "\t<tr><th scope=row>2</th><td>978ab8e90c4d6ad1a48ef5c973b62f4d</td><td>feca46ddb8ef04f86172ace0cb7e004c</td></tr>\n",
       "\t<tr><th scope=row>3</th><td>85123b0e358907725cf19a2cb0ec3983</td><td>b65f46d64c688fe98bdbcf93a76a71fc</td></tr>\n",
       "\t<tr><th scope=row>4</th><td>ce110562b3e2f7e5cad3775b32d9caa5</td><td>b65f46d64c688fe98bdbcf93a76a71fc</td></tr>\n",
       "\t<tr><th scope=row>5</th><td>8188d20745471273fa69ba44a5b28473</td><td>b65f46d64c688fe98bdbcf93a76a71fc</td></tr>\n",
       "\t<tr><th scope=row>6</th><td>e9c621f322640e5f3b3842d19b38aaa8</td><td>b65f46d64c688fe98bdbcf93a76a71fc</td></tr>\n",
       "</tbody>\n",
       "</table>\n"
      ],
      "text/latex": [
       "A data.frame: 6 × 2\n",
       "\\begin{tabular}{r|ll}\n",
       "  & userid & likeid\\\\\n",
       "  & <chr> & <chr>\\\\\n",
       "\\hline\n",
       "\t1 & 71bc7c0901488aec6d30f0add257e7c5 & 3c1636c878e6eb2acfd00c6b61086e38\\\\\n",
       "\t2 & 978ab8e90c4d6ad1a48ef5c973b62f4d & feca46ddb8ef04f86172ace0cb7e004c\\\\\n",
       "\t3 & 85123b0e358907725cf19a2cb0ec3983 & b65f46d64c688fe98bdbcf93a76a71fc\\\\\n",
       "\t4 & ce110562b3e2f7e5cad3775b32d9caa5 & b65f46d64c688fe98bdbcf93a76a71fc\\\\\n",
       "\t5 & 8188d20745471273fa69ba44a5b28473 & b65f46d64c688fe98bdbcf93a76a71fc\\\\\n",
       "\t6 & e9c621f322640e5f3b3842d19b38aaa8 & b65f46d64c688fe98bdbcf93a76a71fc\\\\\n",
       "\\end{tabular}\n"
      ],
      "text/markdown": [
       "\n",
       "A data.frame: 6 × 2\n",
       "\n",
       "| <!--/--> | userid &lt;chr&gt; | likeid &lt;chr&gt; |\n",
       "|---|---|---|\n",
       "| 1 | 71bc7c0901488aec6d30f0add257e7c5 | 3c1636c878e6eb2acfd00c6b61086e38 |\n",
       "| 2 | 978ab8e90c4d6ad1a48ef5c973b62f4d | feca46ddb8ef04f86172ace0cb7e004c |\n",
       "| 3 | 85123b0e358907725cf19a2cb0ec3983 | b65f46d64c688fe98bdbcf93a76a71fc |\n",
       "| 4 | ce110562b3e2f7e5cad3775b32d9caa5 | b65f46d64c688fe98bdbcf93a76a71fc |\n",
       "| 5 | 8188d20745471273fa69ba44a5b28473 | b65f46d64c688fe98bdbcf93a76a71fc |\n",
       "| 6 | e9c621f322640e5f3b3842d19b38aaa8 | b65f46d64c688fe98bdbcf93a76a71fc |\n",
       "\n"
      ],
      "text/plain": [
       "  userid                           likeid                          \n",
       "1 71bc7c0901488aec6d30f0add257e7c5 3c1636c878e6eb2acfd00c6b61086e38\n",
       "2 978ab8e90c4d6ad1a48ef5c973b62f4d feca46ddb8ef04f86172ace0cb7e004c\n",
       "3 85123b0e358907725cf19a2cb0ec3983 b65f46d64c688fe98bdbcf93a76a71fc\n",
       "4 ce110562b3e2f7e5cad3775b32d9caa5 b65f46d64c688fe98bdbcf93a76a71fc\n",
       "5 8188d20745471273fa69ba44a5b28473 b65f46d64c688fe98bdbcf93a76a71fc\n",
       "6 e9c621f322640e5f3b3842d19b38aaa8 b65f46d64c688fe98bdbcf93a76a71fc"
      ]
     },
     "metadata": {},
     "output_type": "display_data"
    }
   ],
   "source": [
    "print(dim(ul)) # 10612326 user-Like pairs\n",
    "head(ul)"
   ]
  },
  {
   "cell_type": "markdown",
   "id": "d7afdb9f",
   "metadata": {},
   "source": [
    "## Constructing a User-Like Matrix\n",
    "\n",
    "We proceed to construct a user-Like matrix `M`. The user stored in the $i$th row of the data frame `users` will be put in the $i$th row of matrix `M`, and the Like stored in the $j$th row of the data frame `likes` will be put in the $j$th column of matrix `M`. If the $i$th user likes the $j$th Like, then $M_{i,j}=1$."
   ]
  },
  {
   "cell_type": "code",
   "execution_count": 5,
   "id": "0a33b534",
   "metadata": {
    "scrolled": true
   },
   "outputs": [
    {
     "data": {
      "text/html": [
       "<table class=\"dataframe\">\n",
       "<caption>A data.frame: 6 × 4</caption>\n",
       "<thead>\n",
       "\t<tr><th></th><th scope=col>userid</th><th scope=col>likeid</th><th scope=col>user_row</th><th scope=col>like_row</th></tr>\n",
       "\t<tr><th></th><th scope=col>&lt;chr&gt;</th><th scope=col>&lt;chr&gt;</th><th scope=col>&lt;int&gt;</th><th scope=col>&lt;int&gt;</th></tr>\n",
       "</thead>\n",
       "<tbody>\n",
       "\t<tr><th scope=row>1</th><td>71bc7c0901488aec6d30f0add257e7c5</td><td>3c1636c878e6eb2acfd00c6b61086e38</td><td>59353</td><td>1</td></tr>\n",
       "\t<tr><th scope=row>2</th><td>978ab8e90c4d6ad1a48ef5c973b62f4d</td><td>feca46ddb8ef04f86172ace0cb7e004c</td><td>36793</td><td>2</td></tr>\n",
       "\t<tr><th scope=row>3</th><td>85123b0e358907725cf19a2cb0ec3983</td><td>b65f46d64c688fe98bdbcf93a76a71fc</td><td>30998</td><td>3</td></tr>\n",
       "\t<tr><th scope=row>4</th><td>ce110562b3e2f7e5cad3775b32d9caa5</td><td>b65f46d64c688fe98bdbcf93a76a71fc</td><td>50637</td><td>3</td></tr>\n",
       "\t<tr><th scope=row>5</th><td>8188d20745471273fa69ba44a5b28473</td><td>b65f46d64c688fe98bdbcf93a76a71fc</td><td>72224</td><td>3</td></tr>\n",
       "\t<tr><th scope=row>6</th><td>e9c621f322640e5f3b3842d19b38aaa8</td><td>b65f46d64c688fe98bdbcf93a76a71fc</td><td>79675</td><td>3</td></tr>\n",
       "</tbody>\n",
       "</table>\n"
      ],
      "text/latex": [
       "A data.frame: 6 × 4\n",
       "\\begin{tabular}{r|llll}\n",
       "  & userid & likeid & user\\_row & like\\_row\\\\\n",
       "  & <chr> & <chr> & <int> & <int>\\\\\n",
       "\\hline\n",
       "\t1 & 71bc7c0901488aec6d30f0add257e7c5 & 3c1636c878e6eb2acfd00c6b61086e38 & 59353 & 1\\\\\n",
       "\t2 & 978ab8e90c4d6ad1a48ef5c973b62f4d & feca46ddb8ef04f86172ace0cb7e004c & 36793 & 2\\\\\n",
       "\t3 & 85123b0e358907725cf19a2cb0ec3983 & b65f46d64c688fe98bdbcf93a76a71fc & 30998 & 3\\\\\n",
       "\t4 & ce110562b3e2f7e5cad3775b32d9caa5 & b65f46d64c688fe98bdbcf93a76a71fc & 50637 & 3\\\\\n",
       "\t5 & 8188d20745471273fa69ba44a5b28473 & b65f46d64c688fe98bdbcf93a76a71fc & 72224 & 3\\\\\n",
       "\t6 & e9c621f322640e5f3b3842d19b38aaa8 & b65f46d64c688fe98bdbcf93a76a71fc & 79675 & 3\\\\\n",
       "\\end{tabular}\n"
      ],
      "text/markdown": [
       "\n",
       "A data.frame: 6 × 4\n",
       "\n",
       "| <!--/--> | userid &lt;chr&gt; | likeid &lt;chr&gt; | user_row &lt;int&gt; | like_row &lt;int&gt; |\n",
       "|---|---|---|---|---|\n",
       "| 1 | 71bc7c0901488aec6d30f0add257e7c5 | 3c1636c878e6eb2acfd00c6b61086e38 | 59353 | 1 |\n",
       "| 2 | 978ab8e90c4d6ad1a48ef5c973b62f4d | feca46ddb8ef04f86172ace0cb7e004c | 36793 | 2 |\n",
       "| 3 | 85123b0e358907725cf19a2cb0ec3983 | b65f46d64c688fe98bdbcf93a76a71fc | 30998 | 3 |\n",
       "| 4 | ce110562b3e2f7e5cad3775b32d9caa5 | b65f46d64c688fe98bdbcf93a76a71fc | 50637 | 3 |\n",
       "| 5 | 8188d20745471273fa69ba44a5b28473 | b65f46d64c688fe98bdbcf93a76a71fc | 72224 | 3 |\n",
       "| 6 | e9c621f322640e5f3b3842d19b38aaa8 | b65f46d64c688fe98bdbcf93a76a71fc | 79675 | 3 |\n",
       "\n"
      ],
      "text/plain": [
       "  userid                           likeid                           user_row\n",
       "1 71bc7c0901488aec6d30f0add257e7c5 3c1636c878e6eb2acfd00c6b61086e38 59353   \n",
       "2 978ab8e90c4d6ad1a48ef5c973b62f4d feca46ddb8ef04f86172ace0cb7e004c 36793   \n",
       "3 85123b0e358907725cf19a2cb0ec3983 b65f46d64c688fe98bdbcf93a76a71fc 30998   \n",
       "4 ce110562b3e2f7e5cad3775b32d9caa5 b65f46d64c688fe98bdbcf93a76a71fc 50637   \n",
       "5 8188d20745471273fa69ba44a5b28473 b65f46d64c688fe98bdbcf93a76a71fc 72224   \n",
       "6 e9c621f322640e5f3b3842d19b38aaa8 b65f46d64c688fe98bdbcf93a76a71fc 79675   \n",
       "  like_row\n",
       "1 1       \n",
       "2 2       \n",
       "3 3       \n",
       "4 3       \n",
       "5 3       \n",
       "6 3       "
      ]
     },
     "metadata": {},
     "output_type": "display_data"
    }
   ],
   "source": [
    "ul$user_row = match(ul$userid, users$userid)\n",
    "ul$like_row = match(ul$likeid, likes$likeid)\n",
    "head(ul)"
   ]
  },
  {
   "cell_type": "code",
   "execution_count": 6,
   "id": "52ce7819",
   "metadata": {},
   "outputs": [
    {
     "data": {
      "text/html": [
       "<style>\n",
       ".list-inline {list-style: none; margin:0; padding: 0}\n",
       ".list-inline>li {display: inline-block}\n",
       ".list-inline>li:not(:last-child)::after {content: \"\\00b7\"; padding: 0 .5ex}\n",
       "</style>\n",
       "<ol class=list-inline><li>110728</li><li>1580284</li></ol>\n"
      ],
      "text/latex": [
       "\\begin{enumerate*}\n",
       "\\item 110728\n",
       "\\item 1580284\n",
       "\\end{enumerate*}\n"
      ],
      "text/markdown": [
       "1. 110728\n",
       "2. 1580284\n",
       "\n",
       "\n"
      ],
      "text/plain": [
       "[1]  110728 1580284"
      ]
     },
     "metadata": {},
     "output_type": "display_data"
    }
   ],
   "source": [
    "library(Matrix)\n",
    "\n",
    "M = sparseMatrix(i = ul$user_row, j = ul$like_row, x = 1) # user-Like matrix \n",
    "rownames(M) = users$userid\n",
    "colnames(M) = likes$name\n",
    "dim(M)"
   ]
  },
  {
   "cell_type": "markdown",
   "id": "6efbaea4",
   "metadata": {},
   "source": [
    "## Trimming the User-Like Matrix\n",
    "\n",
    "We use a minimum of 50 Likes per user and a minimum of 150 users per Like to reduce the time required for further analyses."
   ]
  },
  {
   "cell_type": "code",
   "execution_count": 39,
   "id": "0c21cfbe",
   "metadata": {
    "scrolled": true
   },
   "outputs": [
    {
     "data": {
      "text/html": [
       "6.06482095182952e-05"
      ],
      "text/latex": [
       "6.06482095182952e-05"
      ],
      "text/markdown": [
       "6.06482095182952e-05"
      ],
      "text/plain": [
       "[1] 6.064821e-05"
      ]
     },
     "metadata": {},
     "output_type": "display_data"
    }
   ],
   "source": [
    "sum(MF) / (as.double(nrow(MF)) * ncol(MF)) # 0.006% non-zero entries"
   ]
  },
  {
   "cell_type": "code",
   "execution_count": 7,
   "id": "43816e47",
   "metadata": {
    "scrolled": true
   },
   "outputs": [
    {
     "data": {
      "text/html": [
       "<style>\n",
       ".list-inline {list-style: none; margin:0; padding: 0}\n",
       ".list-inline>li {display: inline-block}\n",
       ".list-inline>li:not(:last-child)::after {content: \"\\00b7\"; padding: 0 .5ex}\n",
       "</style>\n",
       "<ol class=list-inline><li>19742</li><li>8523</li></ol>\n"
      ],
      "text/latex": [
       "\\begin{enumerate*}\n",
       "\\item 19742\n",
       "\\item 8523\n",
       "\\end{enumerate*}\n"
      ],
      "text/markdown": [
       "1. 19742\n",
       "2. 8523\n",
       "\n",
       "\n"
      ],
      "text/plain": [
       "[1] 19742  8523"
      ]
     },
     "metadata": {},
     "output_type": "display_data"
    }
   ],
   "source": [
    "MF = M # keep the full matrix\n",
    "\n",
    "repeat {\n",
    "    i = sum(dim(M))\n",
    "    M = M[rowSums(M) >= 50, colSums(M) >= 150]\n",
    "    if (sum(dim(M)) == i)\n",
    "        break\n",
    "}\n",
    "\n",
    "dim(M)"
   ]
  },
  {
   "cell_type": "code",
   "execution_count": 8,
   "id": "537a2454",
   "metadata": {
    "scrolled": false
   },
   "outputs": [
    {
     "data": {
      "text/html": [
       "<style>\n",
       ".list-inline {list-style: none; margin:0; padding: 0}\n",
       ".list-inline>li {display: inline-block}\n",
       ".list-inline>li:not(:last-child)::after {content: \"\\00b7\"; padding: 0 .5ex}\n",
       "</style>\n",
       "<ol class=list-inline><li>19742</li><li>9</li></ol>\n"
      ],
      "text/latex": [
       "\\begin{enumerate*}\n",
       "\\item 19742\n",
       "\\item 9\n",
       "\\end{enumerate*}\n"
      ],
      "text/markdown": [
       "1. 19742\n",
       "2. 9\n",
       "\n",
       "\n"
      ],
      "text/plain": [
       "[1] 19742     9"
      ]
     },
     "metadata": {},
     "output_type": "display_data"
    }
   ],
   "source": [
    "users = users[match(rownames(M), users$userid),]\n",
    "dim(users)"
   ]
  },
  {
   "cell_type": "code",
   "execution_count": 50,
   "id": "328bda75",
   "metadata": {
    "scrolled": true
   },
   "outputs": [
    {
     "data": {
      "text/html": [
       "0.0226899786787277"
      ],
      "text/latex": [
       "0.0226899786787277"
      ],
      "text/markdown": [
       "0.0226899786787277"
      ],
      "text/plain": [
       "[1] 0.02268998"
      ]
     },
     "metadata": {},
     "output_type": "display_data"
    }
   ],
   "source": [
    "sum(M) / (nrow(M) * ncol(M)) # 2.27% non-zero entries"
   ]
  },
  {
   "cell_type": "markdown",
   "id": "c49d8330",
   "metadata": {},
   "source": [
    "## Reducing the Dimensionality of the User-Like Matrix Using LDA"
   ]
  },
  {
   "cell_type": "markdown",
   "id": "7b99e6de",
   "metadata": {},
   "source": [
    "Applied to the user-Like matrix $M$ of size $n \\times m$, LDA produces matrix $\\gamma$ of size $n \\times k$, describing the posterior distribution of clusters for each user; and matrix $\\beta$ of size $k \\times m$, describing the posterior distribution of Likes for each cluster."
   ]
  },
  {
   "cell_type": "markdown",
   "id": "50afdfc8",
   "metadata": {},
   "source": [
    "Here, we are going to fit the model with Gibbs sampling by specifying `method = \"Gibbs\"`, you can also try to fit the model using Variational Expectation Maximization (VEM) Algorithm with `method = \"VEM\"`. To compare Gibbs and VEM, you can check this [paper](https://koreascience.kr/article/JAKO202022449681884.pdf)."
   ]
  },
  {
   "cell_type": "code",
   "execution_count": 9,
   "id": "57c5c0ef",
   "metadata": {},
   "outputs": [],
   "source": [
    "library(topicmodels)\n",
    "\n",
    "# fit the model\n",
    "Mlda = LDA(M, \n",
    "           k = 5,\n",
    "           control = list(alpha = 10,\n",
    "                          delta = .1,\n",
    "                          seed = 68),\n",
    "          method = \"Gibbs\")\n",
    "gamma = Mlda@gamma # posterior topic distribution for each user\n",
    "beta = exp(Mlda@beta) # posterior like distribution for each topics"
   ]
  },
  {
   "cell_type": "code",
   "execution_count": 10,
   "id": "742db13a",
   "metadata": {
    "scrolled": true
   },
   "outputs": [
    {
     "data": {
      "text/html": [
       "<style>\n",
       ".list-inline {list-style: none; margin:0; padding: 0}\n",
       ".list-inline>li {display: inline-block}\n",
       ".list-inline>li:not(:last-child)::after {content: \"\\00b7\"; padding: 0 .5ex}\n",
       "</style>\n",
       "<ol class=list-inline><li>19742</li><li>5</li></ol>\n"
      ],
      "text/latex": [
       "\\begin{enumerate*}\n",
       "\\item 19742\n",
       "\\item 5\n",
       "\\end{enumerate*}\n"
      ],
      "text/markdown": [
       "1. 19742\n",
       "2. 5\n",
       "\n",
       "\n"
      ],
      "text/plain": [
       "[1] 19742     5"
      ]
     },
     "metadata": {},
     "output_type": "display_data"
    }
   ],
   "source": [
    "dim(gamma)"
   ]
  },
  {
   "cell_type": "code",
   "execution_count": 11,
   "id": "a5a61c32",
   "metadata": {
    "scrolled": true
   },
   "outputs": [
    {
     "data": {
      "text/html": [
       "<style>\n",
       ".list-inline {list-style: none; margin:0; padding: 0}\n",
       ".list-inline>li {display: inline-block}\n",
       ".list-inline>li:not(:last-child)::after {content: \"\\00b7\"; padding: 0 .5ex}\n",
       "</style>\n",
       "<ol class=list-inline><li>5</li><li>8523</li></ol>\n"
      ],
      "text/latex": [
       "\\begin{enumerate*}\n",
       "\\item 5\n",
       "\\item 8523\n",
       "\\end{enumerate*}\n"
      ],
      "text/markdown": [
       "1. 5\n",
       "2. 8523\n",
       "\n",
       "\n"
      ],
      "text/plain": [
       "[1]    5 8523"
      ]
     },
     "metadata": {},
     "output_type": "display_data"
    }
   ],
   "source": [
    "dim(beta)"
   ]
  },
  {
   "cell_type": "code",
   "execution_count": 13,
   "id": "266dd298",
   "metadata": {
    "scrolled": false
   },
   "outputs": [
    {
     "data": {
      "text/html": [
       "1"
      ],
      "text/latex": [
       "1"
      ],
      "text/markdown": [
       "1"
      ],
      "text/plain": [
       "[1] 1"
      ]
     },
     "metadata": {},
     "output_type": "display_data"
    }
   ],
   "source": [
    "sum(gamma[1,]) # topics - posterior probs"
   ]
  },
  {
   "cell_type": "code",
   "execution_count": 12,
   "id": "84e69129",
   "metadata": {
    "scrolled": true
   },
   "outputs": [
    {
     "data": {
      "text/html": [
       "1"
      ],
      "text/latex": [
       "1"
      ],
      "text/markdown": [
       "1"
      ],
      "text/plain": [
       "[1] 1"
      ]
     },
     "metadata": {},
     "output_type": "display_data"
    }
   ],
   "source": [
    "sum(beta[1,]) # like - posterior probs"
   ]
  },
  {
   "cell_type": "code",
   "execution_count": 14,
   "id": "3c631454",
   "metadata": {},
   "outputs": [],
   "source": [
    "# plot log-likelihood against number of clusters k\n",
    "## do not run, takes very long\n",
    "LK = rep(NA, 7)\n",
    "\n",
    "for (i in 2:8){\n",
    " Mlda = LDA(M, \n",
    "            k = i, \n",
    "            control = list(alpha = 10,\n",
    "                           delta = .1,\n",
    "                           seed = 68), \n",
    "            method = \"Gibbs\")\n",
    "    \n",
    " LK[i-1] = logLik(Mlda)\n",
    "}"
   ]
  },
  {
   "cell_type": "code",
   "execution_count": 15,
   "id": "5943fc13",
   "metadata": {},
   "outputs": [
    {
     "data": {
      "image/png": "[encoded data removed]",
      "text/plain": [
       "plot without title"
      ]
     },
     "metadata": {
      "image/png": {
       "height": 420,
       "width": 420
      }
     },
     "output_type": "display_data"
    }
   ],
   "source": [
    "plot(2:8, LK, pch = 18, cex = 1.5)"
   ]
  },
  {
   "cell_type": "markdown",
   "id": "2308c584",
   "metadata": {},
   "source": [
    "This plot could be used for selecting the number of clusters $k$. Typically, the log-likelihood grows rapidly for lower ranges of $k$, flattens at higher $k$ values, and may start decreasing once the number of clusters becomes very large. Selecting a $k$ that marks the end of a rapid growth of log-likelihood values usually offers decent interpretability of the topics."
   ]
  },
  {
   "cell_type": "markdown",
   "id": "20d7aff3",
   "metadata": {},
   "source": [
    "### Interpreting Clusters \n",
    "\n",
    "The correlation between users' membership on LDA clusters ($\\gamma$) and psychodemographic user traits:"
   ]
  },
  {
   "cell_type": "code",
   "execution_count": 16,
   "id": "b82dbcfa",
   "metadata": {
    "scrolled": true
   },
   "outputs": [
    {
     "data": {
      "image/png": "[encoded data removed]",
      "text/plain": [
       "plot without title"
      ]
     },
     "metadata": {
      "image/png": {
       "height": 420,
       "width": 420
      }
     },
     "output_type": "display_data"
    }
   ],
   "source": [
    "# Interpretation of LDA\n",
    "Clda = cor(gamma, users[,-1], use = \"pairwise\") # construct correlation matrix\n",
    "rownames(Clda) = c(\"LDA1\", \"LDA2\", \"LDA3\", \"LDA4\", \"LDA5\")\n",
    "\n",
    "library(pheatmap)\n",
    "pheatmap(t(Clda), cluster_rows = FALSE, cluster_cols = FALSE)"
   ]
  },
  {
   "cell_type": "markdown",
   "id": "1424633e",
   "metadata": {},
   "source": [
    "Find the top 10 Likes most strongly associated with each of the clusters."
   ]
  },
  {
   "cell_type": "code",
   "execution_count": 17,
   "id": "0b9db8db",
   "metadata": {},
   "outputs": [],
   "source": [
    "top.lda = list()\n",
    "\n",
    "for (i in 1:5){\n",
    "  f = order(beta[i,])\n",
    "  temp = tail(f, n = 10)\n",
    "  top.lda[[i]] = colnames(M)[temp]\n",
    "}"
   ]
  },
  {
   "cell_type": "code",
   "execution_count": 18,
   "id": "72b25ad8",
   "metadata": {
    "scrolled": false
   },
   "outputs": [
    {
     "data": {
      "text/html": [
       "<ol>\n",
       "\t<li><style>\n",
       ".list-inline {list-style: none; margin:0; padding: 0}\n",
       ".list-inline>li {display: inline-block}\n",
       ".list-inline>li:not(:last-child)::after {content: \"\\00b7\"; padding: 0 .5ex}\n",
       "</style>\n",
       "<ol class=list-inline><li>'I\\'d rather do nothing at your house than at mine'</li><li>'If you remember the L\\'Orealkids FISH SHAPED SHAMPOO BOTTLE!'</li><li>'Open fridge, nothing. Freezer? nothing. Might as well try the fridge again.'</li><li>'Comebacks that make the whole room go OOOOOHHHHHH'</li><li>'My level of maturity changes depending on who im with.'</li><li>'I hate it when i\\'m taking a drink and all the ice attacks my face'</li><li>'Telling inanimate objects to STAY when they look like they\\'re going to fall'</li><li>'I feel stupid when I say what? a thousand times because I can\\'t hear'</li><li>'i finally stop laughing... look back over at you and start all over again'</li><li>'Ok, If we get caught here\\'s the story...'</li></ol>\n",
       "</li>\n",
       "\t<li><style>\n",
       ".list-inline {list-style: none; margin:0; padding: 0}\n",
       ".list-inline>li {display: inline-block}\n",
       ".list-inline>li:not(:last-child)::after {content: \"\\00b7\"; padding: 0 .5ex}\n",
       "</style>\n",
       "<ol class=list-inline><li>'Reese\\'s'</li><li>'Disney Pixar'</li><li>'Facebook'</li><li>'Owl City'</li><li>'Duck Tape'</li><li>'Music'</li><li>'YouTube'</li><li>'Oreo'</li><li>'Starburst'</li><li>'Skittles'</li></ol>\n",
       "</li>\n",
       "\t<li><style>\n",
       ".list-inline {list-style: none; margin:0; padding: 0}\n",
       ".list-inline>li {display: inline-block}\n",
       ".list-inline>li:not(:last-child)::after {content: \"\\00b7\"; padding: 0 .5ex}\n",
       "</style>\n",
       "<ol class=list-inline><li>'Futurama'</li><li>'The Onion'</li><li>'Barack Obama'</li><li>'The Lord of the Rings Trilogy (Official Page)'</li><li>'Harry Potter'</li><li>'Music'</li><li>'The Daily Show'</li><li>'The Colbert Report'</li><li>'Queen'</li><li>'The Beatles'</li></ol>\n",
       "</li>\n",
       "\t<li><style>\n",
       ".list-inline {list-style: none; margin:0; padding: 0}\n",
       ".list-inline>li {display: inline-block}\n",
       ".list-inline>li:not(:last-child)::after {content: \"\\00b7\"; padding: 0 .5ex}\n",
       "</style>\n",
       "<ol class=list-inline><li>'House'</li><li>'Disturbed'</li><li>'Music'</li><li>'Pink Floyd'</li><li>'Metallica'</li><li>'The Beatles'</li><li>'Red Hot Chili Peppers'</li><li>'Nirvana'</li><li>'Linkin Park'</li><li>'Family Guy'</li></ol>\n",
       "</li>\n",
       "\t<li><style>\n",
       ".list-inline {list-style: none; margin:0; padding: 0}\n",
       ".list-inline>li {display: inline-block}\n",
       ".list-inline>li:not(:last-child)::after {content: \"\\00b7\"; padding: 0 .5ex}\n",
       "</style>\n",
       "<ol class=list-inline><li>'Usher'</li><li>'Adam Sandler'</li><li>'Taylor Swift'</li><li>'Katy Perry'</li><li>'Lady Gaga'</li><li>'Victoria\\'s Secret'</li><li>'The Hangover'</li><li>'Rihanna'</li><li>'Eminem'</li><li>'Lil Wayne'</li></ol>\n",
       "</li>\n",
       "</ol>\n"
      ],
      "text/latex": [
       "\\begin{enumerate}\n",
       "\\item \\begin{enumerate*}\n",
       "\\item 'I\\textbackslash{}'d rather do nothing at your house than at mine'\n",
       "\\item 'If you remember the L\\textbackslash{}'Orealkids FISH SHAPED SHAMPOO BOTTLE!'\n",
       "\\item 'Open fridge, nothing. Freezer? nothing. Might as well try the fridge again.'\n",
       "\\item 'Comebacks that make the whole room go OOOOOHHHHHH'\n",
       "\\item 'My level of maturity changes depending on who im with.'\n",
       "\\item 'I hate it when i\\textbackslash{}'m taking a drink and all the ice attacks my face'\n",
       "\\item 'Telling inanimate objects to STAY when they look like they\\textbackslash{}'re going to fall'\n",
       "\\item 'I feel stupid when I say what? a thousand times because I can\\textbackslash{}'t hear'\n",
       "\\item 'i finally stop laughing... look back over at you and start all over again'\n",
       "\\item 'Ok, If we get caught here\\textbackslash{}'s the story...'\n",
       "\\end{enumerate*}\n",
       "\n",
       "\\item \\begin{enumerate*}\n",
       "\\item 'Reese\\textbackslash{}'s'\n",
       "\\item 'Disney Pixar'\n",
       "\\item 'Facebook'\n",
       "\\item 'Owl City'\n",
       "\\item 'Duck Tape'\n",
       "\\item 'Music'\n",
       "\\item 'YouTube'\n",
       "\\item 'Oreo'\n",
       "\\item 'Starburst'\n",
       "\\item 'Skittles'\n",
       "\\end{enumerate*}\n",
       "\n",
       "\\item \\begin{enumerate*}\n",
       "\\item 'Futurama'\n",
       "\\item 'The Onion'\n",
       "\\item 'Barack Obama'\n",
       "\\item 'The Lord of the Rings Trilogy (Official Page)'\n",
       "\\item 'Harry Potter'\n",
       "\\item 'Music'\n",
       "\\item 'The Daily Show'\n",
       "\\item 'The Colbert Report'\n",
       "\\item 'Queen'\n",
       "\\item 'The Beatles'\n",
       "\\end{enumerate*}\n",
       "\n",
       "\\item \\begin{enumerate*}\n",
       "\\item 'House'\n",
       "\\item 'Disturbed'\n",
       "\\item 'Music'\n",
       "\\item 'Pink Floyd'\n",
       "\\item 'Metallica'\n",
       "\\item 'The Beatles'\n",
       "\\item 'Red Hot Chili Peppers'\n",
       "\\item 'Nirvana'\n",
       "\\item 'Linkin Park'\n",
       "\\item 'Family Guy'\n",
       "\\end{enumerate*}\n",
       "\n",
       "\\item \\begin{enumerate*}\n",
       "\\item 'Usher'\n",
       "\\item 'Adam Sandler'\n",
       "\\item 'Taylor Swift'\n",
       "\\item 'Katy Perry'\n",
       "\\item 'Lady Gaga'\n",
       "\\item 'Victoria\\textbackslash{}'s Secret'\n",
       "\\item 'The Hangover'\n",
       "\\item 'Rihanna'\n",
       "\\item 'Eminem'\n",
       "\\item 'Lil Wayne'\n",
       "\\end{enumerate*}\n",
       "\n",
       "\\end{enumerate}\n"
      ],
      "text/markdown": [
       "1. 1. 'I\\'d rather do nothing at your house than at mine'\n",
       "2. 'If you remember the L\\'Orealkids FISH SHAPED SHAMPOO BOTTLE!'\n",
       "3. 'Open fridge, nothing. Freezer? nothing. Might as well try the fridge again.'\n",
       "4. 'Comebacks that make the whole room go OOOOOHHHHHH'\n",
       "5. 'My level of maturity changes depending on who im with.'\n",
       "6. 'I hate it when i\\'m taking a drink and all the ice attacks my face'\n",
       "7. 'Telling inanimate objects to STAY when they look like they\\'re going to fall'\n",
       "8. 'I feel stupid when I say what? a thousand times because I can\\'t hear'\n",
       "9. 'i finally stop laughing... look back over at you and start all over again'\n",
       "10. 'Ok, If we get caught here\\'s the story...'\n",
       "\n",
       "\n",
       "\n",
       "2. 1. 'Reese\\'s'\n",
       "2. 'Disney Pixar'\n",
       "3. 'Facebook'\n",
       "4. 'Owl City'\n",
       "5. 'Duck Tape'\n",
       "6. 'Music'\n",
       "7. 'YouTube'\n",
       "8. 'Oreo'\n",
       "9. 'Starburst'\n",
       "10. 'Skittles'\n",
       "\n",
       "\n",
       "\n",
       "3. 1. 'Futurama'\n",
       "2. 'The Onion'\n",
       "3. 'Barack Obama'\n",
       "4. 'The Lord of the Rings Trilogy (Official Page)'\n",
       "5. 'Harry Potter'\n",
       "6. 'Music'\n",
       "7. 'The Daily Show'\n",
       "8. 'The Colbert Report'\n",
       "9. 'Queen'\n",
       "10. 'The Beatles'\n",
       "\n",
       "\n",
       "\n",
       "4. 1. 'House'\n",
       "2. 'Disturbed'\n",
       "3. 'Music'\n",
       "4. 'Pink Floyd'\n",
       "5. 'Metallica'\n",
       "6. 'The Beatles'\n",
       "7. 'Red Hot Chili Peppers'\n",
       "8. 'Nirvana'\n",
       "9. 'Linkin Park'\n",
       "10. 'Family Guy'\n",
       "\n",
       "\n",
       "\n",
       "5. 1. 'Usher'\n",
       "2. 'Adam Sandler'\n",
       "3. 'Taylor Swift'\n",
       "4. 'Katy Perry'\n",
       "5. 'Lady Gaga'\n",
       "6. 'Victoria\\'s Secret'\n",
       "7. 'The Hangover'\n",
       "8. 'Rihanna'\n",
       "9. 'Eminem'\n",
       "10. 'Lil Wayne'\n",
       "\n",
       "\n",
       "\n",
       "\n",
       "\n"
      ],
      "text/plain": [
       "[[1]]\n",
       " [1] \"I'd rather do nothing at your house than at mine\"                           \n",
       " [2] \"If you remember the L'Orealkids FISH SHAPED SHAMPOO BOTTLE!\"                \n",
       " [3] \"Open fridge, nothing. Freezer? nothing. Might as well try the fridge again.\"\n",
       " [4] \"Comebacks that make the whole room go OOOOOHHHHHH\"                          \n",
       " [5] \"My level of maturity changes depending on who im with.\"                     \n",
       " [6] \"I hate it when i'm taking a drink and all the ice attacks my face\"          \n",
       " [7] \"Telling inanimate objects to STAY when they look like they're going to fall\"\n",
       " [8] \"I feel stupid when I say what? a thousand times because I can't hear\"       \n",
       " [9] \"i finally stop laughing... look back over at you and start all over again\"  \n",
       "[10] \"Ok, If we get caught here's the story...\"                                   \n",
       "\n",
       "[[2]]\n",
       " [1] \"Reese's\"      \"Disney Pixar\" \"Facebook\"     \"Owl City\"     \"Duck Tape\"   \n",
       " [6] \"Music\"        \"YouTube\"      \"Oreo\"         \"Starburst\"    \"Skittles\"    \n",
       "\n",
       "[[3]]\n",
       " [1] \"Futurama\"                                     \n",
       " [2] \"The Onion\"                                    \n",
       " [3] \"Barack Obama\"                                 \n",
       " [4] \"The Lord of the Rings Trilogy (Official Page)\"\n",
       " [5] \"Harry Potter\"                                 \n",
       " [6] \"Music\"                                        \n",
       " [7] \"The Daily Show\"                               \n",
       " [8] \"The Colbert Report\"                           \n",
       " [9] \"Queen\"                                        \n",
       "[10] \"The Beatles\"                                  \n",
       "\n",
       "[[4]]\n",
       " [1] \"House\"                 \"Disturbed\"             \"Music\"                \n",
       " [4] \"Pink Floyd\"            \"Metallica\"             \"The Beatles\"          \n",
       " [7] \"Red Hot Chili Peppers\" \"Nirvana\"               \"Linkin Park\"          \n",
       "[10] \"Family Guy\"           \n",
       "\n",
       "[[5]]\n",
       " [1] \"Usher\"             \"Adam Sandler\"      \"Taylor Swift\"     \n",
       " [4] \"Katy Perry\"        \"Lady Gaga\"         \"Victoria's Secret\"\n",
       " [7] \"The Hangover\"      \"Rihanna\"           \"Eminem\"           \n",
       "[10] \"Lil Wayne\"        \n"
      ]
     },
     "metadata": {},
     "output_type": "display_data"
    }
   ],
   "source": [
    "top.lda"
   ]
  },
  {
   "cell_type": "markdown",
   "id": "81bee00a",
   "metadata": {},
   "source": [
    "## Reducing the Dimensionality of the User-Like Matrix Using SVD\n",
    "\n",
    "SVD represents a given matrix of size $n \\times m$ as a product of three matrices:\n",
    "\n",
    "$$M=U \\Sigma V^\\top$$\n",
    "\n",
    "where $U$ of size $n \\times k$ contains left singular vector, $\\Sigma$ of size $k \\times k$ contains singular values, and $V$ of size $m \\times k$ contains right singular vectors, $k$ is the number of dimensions chosen to extract.\n",
    "\n",
    "Applied to the non-centered user-Like matrix $M$, SVD produces matrix $U$ containing users' scores on the SVD dimensions, and matrix $V$ shows Likes' scores on the SVD dimensions."
   ]
  },
  {
   "cell_type": "code",
   "execution_count": 23,
   "id": "abd3da3b",
   "metadata": {},
   "outputs": [],
   "source": [
    "set.seed(seed = 68)\n",
    "library(irlba)\n",
    "\n",
    "Msvd = irlba(M, nv = 20)\n",
    "u = Msvd$u\n",
    "v = Msvd$v"
   ]
  },
  {
   "cell_type": "code",
   "execution_count": 24,
   "id": "d34f1c6c",
   "metadata": {
    "scrolled": true
   },
   "outputs": [
    {
     "data": {
      "image/png": "[encoded data removed]",
      "text/plain": [
       "plot without title"
      ]
     },
     "metadata": {
      "image/png": {
       "height": 420,
       "width": 420
      }
     },
     "output_type": "display_data"
    }
   ],
   "source": [
    "# scree plot: singular values against index\n",
    "plot(Msvd$d, pch = 18, cex = 1.5)"
   ]
  },
  {
   "cell_type": "markdown",
   "id": "5d5d6835",
   "metadata": {},
   "source": [
    "The scree plot could be used for selecting the number of SVD dimensions $k$. The optimum $k$ lies at the \"knee\" of the resulting scree plot."
   ]
  },
  {
   "cell_type": "markdown",
   "id": "16af396b",
   "metadata": {},
   "source": [
    "To improve SVD's interpretability, matrix $M$ could have been centered. Centering, however, does not preserve the sparsity of the matrix, and thus is often impossible in the context of big data sets. Instead, the interpretability of the dimensions extracted from the non-centered matrix can be improved by rotating SVD dimensions with use of rotation technique, like varimax, quartimax, equimax, etc."
   ]
  },
  {
   "cell_type": "code",
   "execution_count": 26,
   "id": "59f5a44f",
   "metadata": {},
   "outputs": [],
   "source": [
    "Msvd = irlba(M, nv = 5)\n",
    "u = Msvd$u # user scores on the SVD dimensions\n",
    "v = Msvd$v # Likes scores on the SVD dimensions\n",
    "\n",
    "# factor rotation\n",
    "v_rot = unclass(varimax(Msvd$v)$loadings) # Likes scores on the varimax-rotated SVD dimensions\n",
    "u_rot = as.matrix(M %*% v_rot) # user scores on the varimax-rotated SVD dimensions"
   ]
  },
  {
   "cell_type": "markdown",
   "id": "04315fd0",
   "metadata": {},
   "source": [
    "### Interpreting Dimensions\n",
    "\n",
    "The correlations between user scores on the varimax-rotated SVD dimensions ($U_{rot}$) and psychodemographic user traits:"
   ]
  },
  {
   "cell_type": "code",
   "execution_count": 28,
   "id": "ef0eee1c",
   "metadata": {
    "scrolled": false
   },
   "outputs": [
    {
     "data": {
      "image/png": "[encoded data removed]",
      "text/plain": [
       "plot without title"
      ]
     },
     "metadata": {
      "image/png": {
       "height": 420,
       "width": 420
      }
     },
     "output_type": "display_data"
    }
   ],
   "source": [
    "Csvd = cor(u_rot, users[,-1], use = \"pairwise\")\n",
    "rownames(Csvd) = paste0(\"rot_SVD\", 1:5)\n",
    "pheatmap(t(Csvd), cluster_rows = FALSE, cluster_cols = FALSE)"
   ]
  },
  {
   "cell_type": "code",
   "execution_count": 29,
   "id": "674d5a6f",
   "metadata": {},
   "outputs": [],
   "source": [
    "top.svd = bottom.svd = list()\n",
    "\n",
    "for (i in 1:5){\n",
    "    f = order(v_rot[,i])\n",
    "    top.svd[[i]] = colnames(M)[tail(f, n = 10)]\n",
    "    bottom.svd[[i]] = colnames(M)[head(f, n = 10)]\n",
    "}"
   ]
  },
  {
   "cell_type": "code",
   "execution_count": 30,
   "id": "265abe05",
   "metadata": {
    "scrolled": true
   },
   "outputs": [
    {
     "data": {
      "text/html": [
       "<ol>\n",
       "\t<li><style>\n",
       ".list-inline {list-style: none; margin:0; padding: 0}\n",
       ".list-inline>li {display: inline-block}\n",
       ".list-inline>li:not(:last-child)::after {content: \"\\00b7\"; padding: 0 .5ex}\n",
       "</style>\n",
       "<ol class=list-inline><li>'My door was closed when you came in, dont walk off and leave it open.'</li><li>'Spinny Chairs'</li><li>'Accomplishing something before the microwave reaches :00.'</li><li>'I love staying up late!'</li><li>'Questions on a test that give away the answers to other questions'</li><li>'Homemade Chocolate Chip Cookies'</li><li>'Finding Money In Your Pocket'</li><li>'Random laughter when remembering something'</li><li>'I hate waking up during a good dream and it won\\'t come back!'</li><li>'Yelling at inanimate objects'</li></ol>\n",
       "</li>\n",
       "\t<li><style>\n",
       ".list-inline {list-style: none; margin:0; padding: 0}\n",
       ".list-inline>li {display: inline-block}\n",
       ".list-inline>li:not(:last-child)::after {content: \"\\00b7\"; padding: 0 .5ex}\n",
       "</style>\n",
       "<ol class=list-inline><li>'Weezer'</li><li>'The Cure'</li><li>'The Doors'</li><li>'The Who'</li><li>'Nine Inch Nails'</li><li>'Beck'</li><li>'Bob Dylan'</li><li>'Led Zeppelin'</li><li>'Queen'</li><li>'Radiohead'</li></ol>\n",
       "</li>\n",
       "\t<li><style>\n",
       ".list-inline {list-style: none; margin:0; padding: 0}\n",
       ".list-inline>li {display: inline-block}\n",
       ".list-inline>li:not(:last-child)::after {content: \"\\00b7\"; padding: 0 .5ex}\n",
       "</style>\n",
       "<ol class=list-inline><li>'The Beatles'</li><li>'Green Day'</li><li>'Pink Floyd'</li><li>'System of a Down'</li><li>'Red Hot Chili Peppers'</li><li>'Nirvana'</li><li>'Disturbed'</li><li>'Metallica'</li><li>'Family Guy'</li><li>'Linkin Park'</li></ol>\n",
       "</li>\n",
       "\t<li><style>\n",
       ".list-inline {list-style: none; margin:0; padding: 0}\n",
       ".list-inline>li {display: inline-block}\n",
       ".list-inline>li:not(:last-child)::after {content: \"\\00b7\"; padding: 0 .5ex}\n",
       "</style>\n",
       "<ol class=list-inline><li>'I fucking love science'</li><li>'Amazon.com'</li><li>'NPR'</li><li>'Fight Club'</li><li>'Queen'</li><li>'The Onion'</li><li>'George Takei'</li><li>'The Colbert Report'</li><li>'The Daily Show'</li><li>'The Beatles'</li></ol>\n",
       "</li>\n",
       "\t<li><style>\n",
       ".list-inline {list-style: none; margin:0; padding: 0}\n",
       ".list-inline>li {display: inline-block}\n",
       ".list-inline>li:not(:last-child)::after {content: \"\\00b7\"; padding: 0 .5ex}\n",
       "</style>\n",
       "<ol class=list-inline><li>'Homemade Chocolate Chip Cookies'</li><li>'Yelling at inanimate objects'</li><li>'Brownies'</li><li>'Staying Up Late'</li><li>'bubblewrap'</li><li>'Spinny Chairs'</li><li>'Cookie Dough'</li><li>'Music'</li><li>'I love staying up late!'</li><li>'Finding Money In Your Pocket'</li></ol>\n",
       "</li>\n",
       "</ol>\n"
      ],
      "text/latex": [
       "\\begin{enumerate}\n",
       "\\item \\begin{enumerate*}\n",
       "\\item 'My door was closed when you came in, dont walk off and leave it open.'\n",
       "\\item 'Spinny Chairs'\n",
       "\\item 'Accomplishing something before the microwave reaches :00.'\n",
       "\\item 'I love staying up late!'\n",
       "\\item 'Questions on a test that give away the answers to other questions'\n",
       "\\item 'Homemade Chocolate Chip Cookies'\n",
       "\\item 'Finding Money In Your Pocket'\n",
       "\\item 'Random laughter when remembering something'\n",
       "\\item 'I hate waking up during a good dream and it won\\textbackslash{}'t come back!'\n",
       "\\item 'Yelling at inanimate objects'\n",
       "\\end{enumerate*}\n",
       "\n",
       "\\item \\begin{enumerate*}\n",
       "\\item 'Weezer'\n",
       "\\item 'The Cure'\n",
       "\\item 'The Doors'\n",
       "\\item 'The Who'\n",
       "\\item 'Nine Inch Nails'\n",
       "\\item 'Beck'\n",
       "\\item 'Bob Dylan'\n",
       "\\item 'Led Zeppelin'\n",
       "\\item 'Queen'\n",
       "\\item 'Radiohead'\n",
       "\\end{enumerate*}\n",
       "\n",
       "\\item \\begin{enumerate*}\n",
       "\\item 'The Beatles'\n",
       "\\item 'Green Day'\n",
       "\\item 'Pink Floyd'\n",
       "\\item 'System of a Down'\n",
       "\\item 'Red Hot Chili Peppers'\n",
       "\\item 'Nirvana'\n",
       "\\item 'Disturbed'\n",
       "\\item 'Metallica'\n",
       "\\item 'Family Guy'\n",
       "\\item 'Linkin Park'\n",
       "\\end{enumerate*}\n",
       "\n",
       "\\item \\begin{enumerate*}\n",
       "\\item 'I fucking love science'\n",
       "\\item 'Amazon.com'\n",
       "\\item 'NPR'\n",
       "\\item 'Fight Club'\n",
       "\\item 'Queen'\n",
       "\\item 'The Onion'\n",
       "\\item 'George Takei'\n",
       "\\item 'The Colbert Report'\n",
       "\\item 'The Daily Show'\n",
       "\\item 'The Beatles'\n",
       "\\end{enumerate*}\n",
       "\n",
       "\\item \\begin{enumerate*}\n",
       "\\item 'Homemade Chocolate Chip Cookies'\n",
       "\\item 'Yelling at inanimate objects'\n",
       "\\item 'Brownies'\n",
       "\\item 'Staying Up Late'\n",
       "\\item 'bubblewrap'\n",
       "\\item 'Spinny Chairs'\n",
       "\\item 'Cookie Dough'\n",
       "\\item 'Music'\n",
       "\\item 'I love staying up late!'\n",
       "\\item 'Finding Money In Your Pocket'\n",
       "\\end{enumerate*}\n",
       "\n",
       "\\end{enumerate}\n"
      ],
      "text/markdown": [
       "1. 1. 'My door was closed when you came in, dont walk off and leave it open.'\n",
       "2. 'Spinny Chairs'\n",
       "3. 'Accomplishing something before the microwave reaches :00.'\n",
       "4. 'I love staying up late!'\n",
       "5. 'Questions on a test that give away the answers to other questions'\n",
       "6. 'Homemade Chocolate Chip Cookies'\n",
       "7. 'Finding Money In Your Pocket'\n",
       "8. 'Random laughter when remembering something'\n",
       "9. 'I hate waking up during a good dream and it won\\'t come back!'\n",
       "10. 'Yelling at inanimate objects'\n",
       "\n",
       "\n",
       "\n",
       "2. 1. 'Weezer'\n",
       "2. 'The Cure'\n",
       "3. 'The Doors'\n",
       "4. 'The Who'\n",
       "5. 'Nine Inch Nails'\n",
       "6. 'Beck'\n",
       "7. 'Bob Dylan'\n",
       "8. 'Led Zeppelin'\n",
       "9. 'Queen'\n",
       "10. 'Radiohead'\n",
       "\n",
       "\n",
       "\n",
       "3. 1. 'The Beatles'\n",
       "2. 'Green Day'\n",
       "3. 'Pink Floyd'\n",
       "4. 'System of a Down'\n",
       "5. 'Red Hot Chili Peppers'\n",
       "6. 'Nirvana'\n",
       "7. 'Disturbed'\n",
       "8. 'Metallica'\n",
       "9. 'Family Guy'\n",
       "10. 'Linkin Park'\n",
       "\n",
       "\n",
       "\n",
       "4. 1. 'I fucking love science'\n",
       "2. 'Amazon.com'\n",
       "3. 'NPR'\n",
       "4. 'Fight Club'\n",
       "5. 'Queen'\n",
       "6. 'The Onion'\n",
       "7. 'George Takei'\n",
       "8. 'The Colbert Report'\n",
       "9. 'The Daily Show'\n",
       "10. 'The Beatles'\n",
       "\n",
       "\n",
       "\n",
       "5. 1. 'Homemade Chocolate Chip Cookies'\n",
       "2. 'Yelling at inanimate objects'\n",
       "3. 'Brownies'\n",
       "4. 'Staying Up Late'\n",
       "5. 'bubblewrap'\n",
       "6. 'Spinny Chairs'\n",
       "7. 'Cookie Dough'\n",
       "8. 'Music'\n",
       "9. 'I love staying up late!'\n",
       "10. 'Finding Money In Your Pocket'\n",
       "\n",
       "\n",
       "\n",
       "\n",
       "\n"
      ],
      "text/plain": [
       "[[1]]\n",
       " [1] \"My door was closed when you came in, dont walk off and leave it open.\"\n",
       " [2] \"Spinny Chairs\"                                                        \n",
       " [3] \"Accomplishing something before the microwave reaches :00.\"            \n",
       " [4] \"I love staying up late!\"                                              \n",
       " [5] \"Questions on a test that give away the answers to other questions\"    \n",
       " [6] \"Homemade Chocolate Chip Cookies\"                                      \n",
       " [7] \"Finding Money In Your Pocket\"                                         \n",
       " [8] \"Random laughter when remembering something\"                           \n",
       " [9] \"I hate waking up during a good dream and it won't come back!\"         \n",
       "[10] \"Yelling at inanimate objects\"                                         \n",
       "\n",
       "[[2]]\n",
       " [1] \"Weezer\"          \"The Cure\"        \"The Doors\"       \"The Who\"        \n",
       " [5] \"Nine Inch Nails\" \"Beck\"            \"Bob Dylan\"       \"Led Zeppelin\"   \n",
       " [9] \"Queen\"           \"Radiohead\"      \n",
       "\n",
       "[[3]]\n",
       " [1] \"The Beatles\"           \"Green Day\"             \"Pink Floyd\"           \n",
       " [4] \"System of a Down\"      \"Red Hot Chili Peppers\" \"Nirvana\"              \n",
       " [7] \"Disturbed\"             \"Metallica\"             \"Family Guy\"           \n",
       "[10] \"Linkin Park\"          \n",
       "\n",
       "[[4]]\n",
       " [1] \"I fucking love science\" \"Amazon.com\"             \"NPR\"                   \n",
       " [4] \"Fight Club\"             \"Queen\"                  \"The Onion\"             \n",
       " [7] \"George Takei\"           \"The Colbert Report\"     \"The Daily Show\"        \n",
       "[10] \"The Beatles\"           \n",
       "\n",
       "[[5]]\n",
       " [1] \"Homemade Chocolate Chip Cookies\" \"Yelling at inanimate objects\"   \n",
       " [3] \"Brownies\"                        \"Staying Up Late\"                \n",
       " [5] \"bubblewrap\"                      \"Spinny Chairs\"                  \n",
       " [7] \"Cookie Dough\"                    \"Music\"                          \n",
       " [9] \"I love staying up late!\"         \"Finding Money In Your Pocket\"   \n"
      ]
     },
     "metadata": {},
     "output_type": "display_data"
    }
   ],
   "source": [
    "top.svd # top 10 likes positively associated with each varimax-rotated SVD dimension"
   ]
  },
  {
   "cell_type": "code",
   "execution_count": 31,
   "id": "b476fd39",
   "metadata": {},
   "outputs": [
    {
     "data": {
      "text/html": [
       "<ol>\n",
       "\t<li><style>\n",
       ".list-inline {list-style: none; margin:0; padding: 0}\n",
       ".list-inline>li {display: inline-block}\n",
       ".list-inline>li:not(:last-child)::after {content: \"\\00b7\"; padding: 0 .5ex}\n",
       "</style>\n",
       "<ol class=list-inline><li>'Lil Wayne'</li><li>'T.I.'</li><li>'The Hangover'</li><li>'Drake'</li><li>'Family Guy'</li><li>'Eminem'</li><li>'Trey Songz'</li><li>'Bob Marley'</li><li>'The Boondocks'</li><li>'Nicki Minaj'</li></ol>\n",
       "</li>\n",
       "\t<li><style>\n",
       ".list-inline {list-style: none; margin:0; padding: 0}\n",
       ".list-inline>li {display: inline-block}\n",
       ".list-inline>li:not(:last-child)::after {content: \"\\00b7\"; padding: 0 .5ex}\n",
       "</style>\n",
       "<ol class=list-inline><li>'YouTube'</li><li>'Skittles'</li><li>'Facebook'</li><li>'Oreo'</li><li>'Starburst'</li><li>'Disney'</li><li>'Adam Sandler'</li><li>'Starbucks'</li><li>'Reese\\'s'</li><li>'Music'</li></ol>\n",
       "</li>\n",
       "\t<li><style>\n",
       ".list-inline {list-style: none; margin:0; padding: 0}\n",
       ".list-inline>li {display: inline-block}\n",
       ".list-inline>li:not(:last-child)::after {content: \"\\00b7\"; padding: 0 .5ex}\n",
       "</style>\n",
       "<ol class=list-inline><li>'Will Smith'</li><li>'Oreo'</li><li>'Subway'</li><li>'Target'</li><li>'DORY'</li><li>'Last Day of School'</li><li>'iTunes'</li><li>'Starbucks'</li><li>'Barack Obama'</li><li>'Reese\\'s'</li></ol>\n",
       "</li>\n",
       "\t<li><style>\n",
       ".list-inline {list-style: none; margin:0; padding: 0}\n",
       ".list-inline>li {display: inline-block}\n",
       ".list-inline>li:not(:last-child)::after {content: \"\\00b7\"; padding: 0 .5ex}\n",
       "</style>\n",
       "<ol class=list-inline><li>'Linkin Park'</li><li>'Eminem'</li><li>'Paramore'</li><li>'Three Days Grace'</li><li>'3OH!3'</li><li>'Nickelback'</li><li>'Avril Lavigne'</li><li>'Twilight'</li><li>'Taylor Swift'</li><li>'Lil Wayne'</li></ol>\n",
       "</li>\n",
       "\t<li><style>\n",
       ".list-inline {list-style: none; margin:0; padding: 0}\n",
       ".list-inline>li {display: inline-block}\n",
       ".list-inline>li:not(:last-child)::after {content: \"\\00b7\"; padding: 0 .5ex}\n",
       "</style>\n",
       "<ol class=list-inline><li>'Worst. Idea. Ever. [pause] Let\\'s do it.'</li><li>'Who are you talking to?...... TELL THEM I SAY HI!!!!!!'</li><li>'mom, i could be dying and you\\'re not answering the phone'</li><li>'Dear sleep, I know we had problems when I was younger, but now I love you'</li><li>'My level of maturity changes depending on who im with.'</li><li>'I forgot your name, so i\\'m waiting for somebody to say it.'</li><li>'Send failed would you like to retry? Well obviously...'</li><li>'When you\\'re so good at sarcasm no one can tell if you are serious or not'</li><li>'You\\'re angry at me for that ? Thats cool, just let me know when you grow up'</li><li>'When you hit your hip on a counter and you feel like you just got shot.'</li></ol>\n",
       "</li>\n",
       "</ol>\n"
      ],
      "text/latex": [
       "\\begin{enumerate}\n",
       "\\item \\begin{enumerate*}\n",
       "\\item 'Lil Wayne'\n",
       "\\item 'T.I.'\n",
       "\\item 'The Hangover'\n",
       "\\item 'Drake'\n",
       "\\item 'Family Guy'\n",
       "\\item 'Eminem'\n",
       "\\item 'Trey Songz'\n",
       "\\item 'Bob Marley'\n",
       "\\item 'The Boondocks'\n",
       "\\item 'Nicki Minaj'\n",
       "\\end{enumerate*}\n",
       "\n",
       "\\item \\begin{enumerate*}\n",
       "\\item 'YouTube'\n",
       "\\item 'Skittles'\n",
       "\\item 'Facebook'\n",
       "\\item 'Oreo'\n",
       "\\item 'Starburst'\n",
       "\\item 'Disney'\n",
       "\\item 'Adam Sandler'\n",
       "\\item 'Starbucks'\n",
       "\\item 'Reese\\textbackslash{}'s'\n",
       "\\item 'Music'\n",
       "\\end{enumerate*}\n",
       "\n",
       "\\item \\begin{enumerate*}\n",
       "\\item 'Will Smith'\n",
       "\\item 'Oreo'\n",
       "\\item 'Subway'\n",
       "\\item 'Target'\n",
       "\\item 'DORY'\n",
       "\\item 'Last Day of School'\n",
       "\\item 'iTunes'\n",
       "\\item 'Starbucks'\n",
       "\\item 'Barack Obama'\n",
       "\\item 'Reese\\textbackslash{}'s'\n",
       "\\end{enumerate*}\n",
       "\n",
       "\\item \\begin{enumerate*}\n",
       "\\item 'Linkin Park'\n",
       "\\item 'Eminem'\n",
       "\\item 'Paramore'\n",
       "\\item 'Three Days Grace'\n",
       "\\item '3OH!3'\n",
       "\\item 'Nickelback'\n",
       "\\item 'Avril Lavigne'\n",
       "\\item 'Twilight'\n",
       "\\item 'Taylor Swift'\n",
       "\\item 'Lil Wayne'\n",
       "\\end{enumerate*}\n",
       "\n",
       "\\item \\begin{enumerate*}\n",
       "\\item 'Worst. Idea. Ever. {[}pause{]} Let\\textbackslash{}'s do it.'\n",
       "\\item 'Who are you talking to?...... TELL THEM I SAY HI!!!!!!'\n",
       "\\item 'mom, i could be dying and you\\textbackslash{}'re not answering the phone'\n",
       "\\item 'Dear sleep, I know we had problems when I was younger, but now I love you'\n",
       "\\item 'My level of maturity changes depending on who im with.'\n",
       "\\item 'I forgot your name, so i\\textbackslash{}'m waiting for somebody to say it.'\n",
       "\\item 'Send failed would you like to retry? Well obviously...'\n",
       "\\item 'When you\\textbackslash{}'re so good at sarcasm no one can tell if you are serious or not'\n",
       "\\item 'You\\textbackslash{}'re angry at me for that ? Thats cool, just let me know when you grow up'\n",
       "\\item 'When you hit your hip on a counter and you feel like you just got shot.'\n",
       "\\end{enumerate*}\n",
       "\n",
       "\\end{enumerate}\n"
      ],
      "text/markdown": [
       "1. 1. 'Lil Wayne'\n",
       "2. 'T.I.'\n",
       "3. 'The Hangover'\n",
       "4. 'Drake'\n",
       "5. 'Family Guy'\n",
       "6. 'Eminem'\n",
       "7. 'Trey Songz'\n",
       "8. 'Bob Marley'\n",
       "9. 'The Boondocks'\n",
       "10. 'Nicki Minaj'\n",
       "\n",
       "\n",
       "\n",
       "2. 1. 'YouTube'\n",
       "2. 'Skittles'\n",
       "3. 'Facebook'\n",
       "4. 'Oreo'\n",
       "5. 'Starburst'\n",
       "6. 'Disney'\n",
       "7. 'Adam Sandler'\n",
       "8. 'Starbucks'\n",
       "9. 'Reese\\'s'\n",
       "10. 'Music'\n",
       "\n",
       "\n",
       "\n",
       "3. 1. 'Will Smith'\n",
       "2. 'Oreo'\n",
       "3. 'Subway'\n",
       "4. 'Target'\n",
       "5. 'DORY'\n",
       "6. 'Last Day of School'\n",
       "7. 'iTunes'\n",
       "8. 'Starbucks'\n",
       "9. 'Barack Obama'\n",
       "10. 'Reese\\'s'\n",
       "\n",
       "\n",
       "\n",
       "4. 1. 'Linkin Park'\n",
       "2. 'Eminem'\n",
       "3. 'Paramore'\n",
       "4. 'Three Days Grace'\n",
       "5. '3OH!3'\n",
       "6. 'Nickelback'\n",
       "7. 'Avril Lavigne'\n",
       "8. 'Twilight'\n",
       "9. 'Taylor Swift'\n",
       "10. 'Lil Wayne'\n",
       "\n",
       "\n",
       "\n",
       "5. 1. 'Worst. Idea. Ever. [pause] Let\\'s do it.'\n",
       "2. 'Who are you talking to?...... TELL THEM I SAY HI!!!!!!'\n",
       "3. 'mom, i could be dying and you\\'re not answering the phone'\n",
       "4. 'Dear sleep, I know we had problems when I was younger, but now I love you'\n",
       "5. 'My level of maturity changes depending on who im with.'\n",
       "6. 'I forgot your name, so i\\'m waiting for somebody to say it.'\n",
       "7. 'Send failed would you like to retry? Well obviously...'\n",
       "8. 'When you\\'re so good at sarcasm no one can tell if you are serious or not'\n",
       "9. 'You\\'re angry at me for that ? Thats cool, just let me know when you grow up'\n",
       "10. 'When you hit your hip on a counter and you feel like you just got shot.'\n",
       "\n",
       "\n",
       "\n",
       "\n",
       "\n"
      ],
      "text/plain": [
       "[[1]]\n",
       " [1] \"Lil Wayne\"     \"T.I.\"          \"The Hangover\"  \"Drake\"        \n",
       " [5] \"Family Guy\"    \"Eminem\"        \"Trey Songz\"    \"Bob Marley\"   \n",
       " [9] \"The Boondocks\" \"Nicki Minaj\"  \n",
       "\n",
       "[[2]]\n",
       " [1] \"YouTube\"      \"Skittles\"     \"Facebook\"     \"Oreo\"         \"Starburst\"   \n",
       " [6] \"Disney\"       \"Adam Sandler\" \"Starbucks\"    \"Reese's\"      \"Music\"       \n",
       "\n",
       "[[3]]\n",
       " [1] \"Will Smith\"         \"Oreo\"               \"Subway\"            \n",
       " [4] \"Target\"             \"DORY\"               \"Last Day of School\"\n",
       " [7] \"iTunes\"             \"Starbucks\"          \"Barack Obama\"      \n",
       "[10] \"Reese's\"           \n",
       "\n",
       "[[4]]\n",
       " [1] \"Linkin Park\"      \"Eminem\"           \"Paramore\"         \"Three Days Grace\"\n",
       " [5] \"3OH!3\"            \"Nickelback\"       \"Avril Lavigne\"    \"Twilight\"        \n",
       " [9] \"Taylor Swift\"     \"Lil Wayne\"       \n",
       "\n",
       "[[5]]\n",
       " [1] \"Worst. Idea. Ever. [pause] Let's do it.\"                                    \n",
       " [2] \"Who are you talking to?...... TELL THEM I SAY HI!!!!!!\"                     \n",
       " [3] \"mom, i could be dying and you're not answering the phone\"                   \n",
       " [4] \"Dear sleep, I know we had problems when I was younger, but now I love you\"  \n",
       " [5] \"My level of maturity changes depending on who im with.\"                     \n",
       " [6] \"I forgot your name, so i'm waiting for somebody to say it.\"                 \n",
       " [7] \"Send failed would you like to retry? Well obviously...\"                     \n",
       " [8] \"When you're so good at sarcasm no one can tell if you are serious or not\"   \n",
       " [9] \"You're angry at me for that ? Thats cool, just let me know when you grow up\"\n",
       "[10] \"When you hit your hip on a counter and you feel like you just got shot.\"    \n"
      ]
     },
     "metadata": {},
     "output_type": "display_data"
    }
   ],
   "source": [
    "bottom.svd # top 10 likes negatively associated with each varimax-rotated SVD dimension"
   ]
  }
 ],
 "metadata": {
  "kernelspec": {
   "display_name": "R",
   "language": "R",
   "name": "ir"
  },
  "language_info": {
   "codemirror_mode": "r",
   "file_extension": ".r",
   "mimetype": "text/x-r-source",
   "name": "R",
   "pygments_lexer": "r",
   "version": "4.3.1"
  }
 },
 "nbformat": 4,
 "nbformat_minor": 5
}
