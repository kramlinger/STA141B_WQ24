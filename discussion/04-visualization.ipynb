{
 "cells": [
  {
   "cell_type": "markdown",
   "id": "801ebc8e",
   "metadata": {},
   "source": [
    "# Week 4 Discussion\n"
   ]
  },
  {
   "cell_type": "markdown",
   "id": "2830af90",
   "metadata": {},
   "source": [
    "## Making static plots"
   ]
  },
  {
   "cell_type": "markdown",
   "id": "8bc65f9e",
   "metadata": {},
   "source": [
    "## Plotnine\n",
    "\n",
    "We will use the plotnine package, an implementation of ggplot2 for Python. Unlike packages we've seen so far, plotnine is not included with Anaconda. To install the package:\n",
    "\n",
    "* On Windows, run `conda install -c conda-forge plotnine` in an Anaconda Prompt (find it in the start menu)\n",
    "* On MacOS or Linux, run `conda install -c conda-forge plotnine` in the Terminal\n",
    "\n",
    "You may have to restart Jupyter after installing. "
   ]
  },
  {
   "cell_type": "code",
   "execution_count": 1,
   "id": "7c885e86",
   "metadata": {},
   "outputs": [
    {
     "data": {
      "text/plain": [
       "'0.12.4'"
      ]
     },
     "execution_count": 1,
     "metadata": {},
     "output_type": "execute_result"
    }
   ],
   "source": [
    "import plotnine as p9\n",
    "\n",
    "p9.__version__"
   ]
  },
  {
   "cell_type": "markdown",
   "id": "d66593bd",
   "metadata": {},
   "source": [
    "Our focus right now is _static_ visualization, where the visualization is a still image. So what packages should you actually use?\n",
    "\n",
    "* __plotnine__ is convenient if you already know ggplot2. It's relatively new, so there are some bugs and missing features.\n",
    "\n",
    "* __seaborn__ is designed specifically for making statistical plots. It's well-documented and stable. Most of the package's functions expect tidy data as input.\n",
    "\n",
    "* __matplotlib__ is useful to know, since many other packages use matplotlib under the hood. That said, using matplotlib alone to create plots is painful; matplotlib is _low-level_, so it's flexible but simple plots may take [5 lines of code or more][ex]. The matplotlib PyPlot tools may be convenient if you already know MATLAB.\n",
    "\n",
    "* __pandas__ provides built-in plotting functions, which can be convenient but are more limited than the packages above. They're also inconsistent about the expected format of the data.\n",
    "\n",
    "We don't have time to exhaustively cover visualization packages for Python. You're welcome to explore other packages while doing the assignments for this class.\n",
    "\n",
    "Later in the quarter, we'll see some of Python's _interactive_ visualization packages.\n",
    "\n",
    "[ex]: https://dsaber.com/2016/10/02/a-dramatic-tour-through-pythons-data-visualization-landscape-including-ggplot-and-altair/"
   ]
  },
  {
   "cell_type": "markdown",
   "id": "b6a2bec6",
   "metadata": {},
   "source": [
    "See the [plotnine documentation](https://plotnine.readthedocs.io/en/latest/)! Also see the [ggplot2 documentation](https://ggplot2.tidyverse.org/reference/) and the [ggplot2 cheatsheet](https://www.maths.usyd.edu.au/u/UG/SM/STAT3022/r/current/Misc/data-visualization-2.1.pdf). If you run into a bug, you may want to check for a work-around on the [plotnine bug tracker](https://github.com/has2k1/plotnine/issues)."
   ]
  },
  {
   "cell_type": "code",
   "execution_count": null,
   "id": "db55a048",
   "metadata": {},
   "outputs": [],
   "source": [
    "import numpy as np\n",
    "import pandas as pd\n",
    "\n",
    "milk = pd.read_excel(\"../data/fluidmilk.xlsx\", skiprows = 1)\n",
    "milk.columns = milk.columns.str.replace('\\n', '')\n",
    "milk = milk.rename(columns=lambda df: df.strip(' 12'))\n",
    "milk.columns.values[[0,2,3,5,6]] = np.array(['Year', 'Reduced', 'Low', \n",
    "                                             'Flavored Whole', 'Flavored Other'])\n",
    "milk = milk[:-4] # get rid of the last four rows\n",
    "milk = milk.drop(columns = 'Total')\n",
    "\n",
    "milk['Year'] = pd.to_numeric(milk['Year'])\n",
    "\n",
    "milk = milk.set_index(\"Year\") \n",
    "\n",
    "milk1 = milk.stack()\n",
    "milk1 = milk1.reset_index()\n",
    "milk1.columns.values[[False, True, True]] = np.array([\"Kind\", \"Sales\"])"
   ]
  },
  {
   "cell_type": "code",
   "execution_count": null,
   "id": "8556ff87",
   "metadata": {},
   "outputs": [],
   "source": [
    "milk1.head(10)"
   ]
  },
  {
   "cell_type": "code",
   "execution_count": null,
   "id": "2aae50cd",
   "metadata": {},
   "outputs": [],
   "source": [
    "milk2 = milk[['Whole', 'Reduced']]\n",
    "milk2 = milk2.reset_index()\n",
    "milk2.head()"
   ]
  },
  {
   "cell_type": "markdown",
   "id": "2d25813b",
   "metadata": {},
   "source": [
    "The syntax of plotnine closely follows the syntax of R's ggplot2. In R, we would write\n",
    "\n",
    "```r\n",
    "ggplot(milk, aes(x = Year, y = Sales, color = Kind)) + geom_line() \n",
    "```\n",
    "\n",
    "One important difference is that plotnine requires that we quote variable names."
   ]
  },
  {
   "cell_type": "code",
   "execution_count": null,
   "id": "418f4247",
   "metadata": {},
   "outputs": [],
   "source": [
    "(\n",
    "    p9.ggplot(milk1, p9.aes(x = \"Year\", y = \"Sales\", color = \"Kind\")) \n",
    "    + p9.geom_line()\n",
    "    + p9.labs(title = \"US Milk Sales\", y = \"Sales (millions of pounds)\")\n",
    ")"
   ]
  },
  {
   "cell_type": "code",
   "execution_count": null,
   "id": "f298253a",
   "metadata": {},
   "outputs": [],
   "source": [
    "(\n",
    "    p9.ggplot(milk2, p9.aes(x = \"Whole\", y = \"Reduced\"))\n",
    "    + p9.theme_classic() \n",
    "    + p9.geom_path(p9.aes(color = \"Year\", size = \"Whole + Reduced\"), linejoin = 'mitre')\n",
    "    + p9.labs(title = \"Whole per Reduced Milk Sales in US\")\n",
    ")"
   ]
  },
  {
   "cell_type": "markdown",
   "id": "0f847676",
   "metadata": {},
   "source": [
    "`plotnine` includes the familiar `p9.ggsave()` function for saving a visualization to an image file."
   ]
  },
  {
   "cell_type": "markdown",
   "id": "db118f4f",
   "metadata": {},
   "source": [
    "## Jupyter and matplotlib\n",
    "\n",
    "Jupyter notebooks can display most static visualizations and some interactive visualizations. If you're going to use visualization packages that depend on matplotlib, it's a good idea to set up your notebook by running:"
   ]
  },
  {
   "cell_type": "code",
   "execution_count": null,
   "id": "38a23b02",
   "metadata": {},
   "outputs": [],
   "source": [
    "# Initialize matplotlib for jupyter: \n",
    "%matplotlib inline \n",
    "\n",
    "import matplotlib.pyplot as plt\n",
    "\n",
    "# Change the size of the plot\n",
    "plt.rcParams[\"figure.figsize\"] = [5, 5]"
   ]
  },
  {
   "cell_type": "markdown",
   "id": "da58531c",
   "metadata": {},
   "source": [
    "Matplot cheat sheet [see here][link1] \n",
    "\n",
    "[link1]:https://s3.amazonaws.com/assets.datacamp.com/blog_assets/Python_Matplotlib_Cheat_Sheet.pdf"
   ]
  },
  {
   "cell_type": "markdown",
   "id": "9de0467c",
   "metadata": {},
   "source": [
    "## Plotting the Milk Dataset with seaborn\n",
    "\n",
    "Seaborn is a Python data visualization library based on matplotlib. It provides a high-level interface for drawing attractive and informative statistical graphics.\n",
    "\n",
    "Seaborn library is included as part of the Anaconda distribution.\n",
    "\n",
    "See the [seaborn documentation](https://seaborn.pydata.org/)!"
   ]
  },
  {
   "cell_type": "code",
   "execution_count": null,
   "id": "137f3810",
   "metadata": {},
   "outputs": [],
   "source": [
    "import seaborn as sns\n",
    "\n",
    "sns.__version__"
   ]
  },
  {
   "cell_type": "markdown",
   "id": "a41cd1bd",
   "metadata": {},
   "source": [
    "In seaborn, the __hue__ parameter determines which column in the data frame should be used for colour encoding. "
   ]
  },
  {
   "cell_type": "code",
   "execution_count": null,
   "id": "dc1a85af",
   "metadata": {},
   "outputs": [],
   "source": [
    "ax = sns.lineplot(x = \"Year\", y = \"Sales\", hue = \"Kind\", data = milk1)\n",
    "ax.set_title(\"US Milk Sales\")"
   ]
  },
  {
   "cell_type": "markdown",
   "id": "7d8807c7",
   "metadata": {},
   "source": [
    "If we want to adjust the size and layout, we have to learn more about matplotlib."
   ]
  },
  {
   "cell_type": "markdown",
   "id": "c617bce6",
   "metadata": {},
   "source": [
    "## The Basics of matplotlib\n",
    "\n",
    "See the [matplotlib documentation](https://matplotlib.org/stable/users/index.html)!\n",
    "\n",
    "First, let's change the size of the figures in the notebook. To do that, we need to go back to the code we used to initialize matplotlib, and adjust `rcParams`, matplotlib's default settings.\n",
    "\n",
    "### Jargon\n",
    "\n",
    "The most important thing to know is matplotlib's jargon:\n",
    "\n",
    "* _Figure_: Container for plots.\n",
    "* _Axes_: Container for components of a plot (\"primitives\"). In other words, an axes is a single plot.\n",
    "* _Axis_: Container for components of an axis. An axis is a single axis.\n",
    "* _Tick_: A container for tick marks on an axis.\n",
    "\n",
    "All of the containers and the primitives are called _Artists_.\n",
    "\n",
    "### Saving Figures\n",
    "\n",
    "You can save figures to an image file with the `.savefig()` method.\n",
    "\n",
    "You can also get the Figure that contains an Axes with the `.get_figure()` method. So to save our seaborn plot:"
   ]
  },
  {
   "cell_type": "code",
   "execution_count": null,
   "id": "c0596a50",
   "metadata": {},
   "outputs": [],
   "source": [
    "ax = sns.lineplot(x = \"Year\", y = \"Sales\", hue = \"Kind\", data = milk1)\n",
    "ax.set_title(\"US Milk Sales\")"
   ]
  },
  {
   "cell_type": "code",
   "execution_count": null,
   "id": "5806cfef",
   "metadata": {},
   "outputs": [],
   "source": [
    "plt.savefig('seabornplot.png') # saves current plot via matplotlib\n",
    "ax.get_figure().savefig('output.png') # saves with seaborn"
   ]
  },
  {
   "cell_type": "markdown",
   "id": "b54c36b2",
   "metadata": {},
   "source": [
    "## Comparing Packages\n",
    "\n",
    "Let's use the familiar dogs dataset to further compare the different plotting packages."
   ]
  },
  {
   "cell_type": "code",
   "execution_count": null,
   "id": "d7f0d8a0",
   "metadata": {},
   "outputs": [],
   "source": [
    "dogs = pd.read_csv(\"../data/dogs_full.csv\")\n",
    "dogs.head()"
   ]
  },
  {
   "cell_type": "code",
   "execution_count": null,
   "id": "04137676",
   "metadata": {},
   "outputs": [],
   "source": [
    "dogs.tail()"
   ]
  },
  {
   "cell_type": "markdown",
   "id": "c4f1b0c3",
   "metadata": {},
   "source": [
    "### Scatter Plots\n",
    "\n",
    "Plot the number of dogs in each category."
   ]
  },
  {
   "cell_type": "code",
   "execution_count": null,
   "id": "ee72d911",
   "metadata": {},
   "outputs": [],
   "source": [
    "# Plotnine\n",
    "\n",
    "p = (p9.ggplot(dogs, p9.aes(x = \"group\"))\n",
    "+ p9.geom_point(stat = \"count\"))\n",
    "p + p9.labs(title = \"Dog Groups\", x = \"Group\", y = \"Count\")"
   ]
  },
  {
   "cell_type": "code",
   "execution_count": null,
   "id": "5884c2e2",
   "metadata": {},
   "outputs": [],
   "source": [
    "# Seaborn\n",
    "counts = dogs[\"group\"].value_counts()\n",
    "counts"
   ]
  },
  {
   "cell_type": "code",
   "execution_count": null,
   "id": "9d389e75",
   "metadata": {},
   "outputs": [],
   "source": [
    "ax = sns.stripplot(x = counts.index, y = counts)\n",
    "ax.set(title = \"Dog Groups\", xlabel = \"Group\", ylabel = \"Count\") # prints and returns list \n",
    "ax.set_xticklabels(ax.get_xticklabels(), rotation = 45)"
   ]
  },
  {
   "cell_type": "code",
   "execution_count": null,
   "id": "d39db282",
   "metadata": {
    "scrolled": false
   },
   "outputs": [],
   "source": [
    "ax = counts.plot(style = \"o\", rot = 45)\n",
    "ax.set(title = \"Dog Groups\", xlabel = \"Group\", ylabel = \"Count\")"
   ]
  },
  {
   "cell_type": "markdown",
   "id": "cda6964b",
   "metadata": {},
   "source": [
    "### Box Plots\n",
    "\n",
    "Plot the distribution of dog longevity, grouped by category."
   ]
  },
  {
   "cell_type": "code",
   "execution_count": null,
   "id": "84b97697",
   "metadata": {
    "scrolled": false
   },
   "outputs": [],
   "source": [
    "# Plotnine\n",
    "( \n",
    "    p9.ggplot(dogs, p9.aes(\"group\", \"longevity\")) \n",
    "    + p9.geom_boxplot()\n",
    "    + p9.labs(title = \"Dog Longevity\", x = \"\", y = \"Years\")\n",
    ")"
   ]
  },
  {
   "cell_type": "code",
   "execution_count": null,
   "id": "74d668aa",
   "metadata": {},
   "outputs": [],
   "source": [
    "# Seaborn\n",
    "\n",
    "ax = sns.boxplot(x = \"group\", y = \"longevity\", data = dogs)\n",
    "ax.set(title = \"Dog Longevity\", xlabel = \"\", ylabel = \"Years\")\n",
    "ax.set_xticklabels(ax.get_xticklabels(), rotation = 45)"
   ]
  },
  {
   "cell_type": "code",
   "execution_count": null,
   "id": "3ba16472",
   "metadata": {},
   "outputs": [],
   "source": [
    "# Pandas\n",
    "\n",
    "ax = dogs.boxplot(by = \"group\", column = \"longevity\", rot = 45)\n",
    "ax.set(title = \"Dog Longevity\", xlabel = \"\", ylabel = \"Years\")\n",
    "# Hide grouping title Pandas adds.\n",
    "ax.get_figure().suptitle(\"\")"
   ]
  },
  {
   "cell_type": "markdown",
   "id": "b00791c2",
   "metadata": {},
   "source": [
    "### Scatter Plots"
   ]
  },
  {
   "cell_type": "markdown",
   "id": "d23f9178",
   "metadata": {},
   "source": [
    "Plot popularity against datadog score."
   ]
  },
  {
   "cell_type": "code",
   "execution_count": null,
   "id": "545c3c76",
   "metadata": {},
   "outputs": [],
   "source": [
    "# Plotnine\n",
    "\n",
    "(\n",
    "    p9.ggplot(dogs, p9.aes(\"datadog\", \"popularity\"))\n",
    "    + p9.geom_point()\n",
    "    + p9.labs(title = \"Best in Show\", x = \"DataDog Score\", y = \"Popularity Rank\")\n",
    "    + p9.ylim(95, -5)\n",
    ")"
   ]
  },
  {
   "cell_type": "code",
   "execution_count": null,
   "id": "ca38392d",
   "metadata": {},
   "outputs": [],
   "source": [
    "# Seaborn\n",
    "ax = sns.regplot(x = \"datadog\", y = \"popularity\", data = dogs, \n",
    "                 fit_reg = False)\n",
    "ax.set(title = \"Best in Show\", xlabel = \"DataDog Score\", ylabel = \"Popularity Rank\")\n",
    "ax.set_ylim(reversed(ax.get_ylim()))"
   ]
  },
  {
   "cell_type": "code",
   "execution_count": null,
   "id": "c7666624",
   "metadata": {},
   "outputs": [],
   "source": [
    "# Pandas\n",
    "\n",
    "ax = dogs.plot.scatter(x = \"datadog\", y = \"popularity\")\n",
    "ax.set(title = \"Best in Show\", xlabel = \"DataDog Score\", ylabel = \"Popularity Rank\")\n",
    "ax.set_ylim(reversed(ax.get_ylim()))"
   ]
  },
  {
   "cell_type": "code",
   "execution_count": null,
   "id": "1794b3e1",
   "metadata": {},
   "outputs": [],
   "source": []
  },
  {
   "cell_type": "markdown",
   "id": "a24a0735",
   "metadata": {},
   "source": [
    "### Image processing"
   ]
  },
  {
   "cell_type": "code",
   "execution_count": null,
   "id": "301da79e",
   "metadata": {},
   "outputs": [],
   "source": [
    "# Automatically display matplotlib plots, so that we don't have to write `plt.show()`.\n",
    "# Normally this should be in a cell at the top of the notebook.\n",
    "%matplotlib inline"
   ]
  },
  {
   "cell_type": "code",
   "execution_count": null,
   "id": "d082961d",
   "metadata": {},
   "outputs": [],
   "source": [
    "import matplotlib.pyplot as plt\n",
    "import matplotlib.image as img\n",
    "\n",
    "# Dog image from https://unsplash.com/photos/jx_kpR7cvDc\n",
    "dog = img.imread(\"../data/dog.png\")\n",
    "plt.imshow(dog)\n",
    "\n",
    "type(dog)"
   ]
  },
  {
   "cell_type": "code",
   "execution_count": null,
   "id": "8a511d94",
   "metadata": {},
   "outputs": [],
   "source": [
    "dog.shape"
   ]
  },
  {
   "cell_type": "code",
   "execution_count": null,
   "id": "d4cb829d",
   "metadata": {},
   "outputs": [],
   "source": [
    "dog_rg = dog.copy()\n",
    "dog_rg[:,:,2] = 0\n",
    "plt.imshow(dog_rg)"
   ]
  },
  {
   "cell_type": "markdown",
   "id": "7d7815e7",
   "metadata": {},
   "source": [
    "Depending on which package you use to load an image, pixels may be encoded as integers or floating point (decimal) numbers. The scikit-image package has [some documentation](http://scikit-image.org/docs/dev/user_guide/data_types.html) about what these numbers typically mean."
   ]
  },
  {
   "cell_type": "code",
   "execution_count": null,
   "id": "5b3ed1eb",
   "metadata": {},
   "outputs": [],
   "source": [
    "dog.dtype"
   ]
  },
  {
   "cell_type": "markdown",
   "id": "c8d672d1",
   "metadata": {},
   "source": [
    "Let's try to find all the green pixels and make them red.\n",
    "\n",
    "How can we do this?"
   ]
  },
  {
   "cell_type": "code",
   "execution_count": null,
   "id": "e3e63b42",
   "metadata": {},
   "outputs": [],
   "source": [
    "reddog_rgb = dog.copy()\n",
    "#reddog_rgb[:, :, 0] = 1 # Set red channel to large value.\n",
    "reddog_rgb[:, :, 1] = 0 # Set green channel to small value.\n",
    "plt.imshow(reddog_rgb)"
   ]
  },
  {
   "cell_type": "markdown",
   "id": "ca9fce41",
   "metadata": {},
   "source": [
    "Break problems into small steps.\n",
    "\n",
    "If you're trying to figure out how something works, test on small \"toy\" examples and draw pictures."
   ]
  },
  {
   "cell_type": "code",
   "execution_count": null,
   "id": "21fb0453",
   "metadata": {},
   "outputs": [],
   "source": [
    "import numpy as np\n",
    "import skimage as ski\n",
    "import skimage.color\n",
    "\n",
    "# Switch from (red, green, blue) to (hue, saturation, value).\n",
    "# Hue is the color (from red to violet).\n",
    "# Saturation is how colorful (from colorless to colorful).\n",
    "# Value is how bright (from black to bright color).\n",
    "dog_hsv = ski.color.rgb2hsv(dog)\n",
    "plt.imshow(dog_hsv)"
   ]
  },
  {
   "cell_type": "code",
   "execution_count": null,
   "id": "590d35a7",
   "metadata": {},
   "outputs": [],
   "source": [
    "dog_hsv.shape"
   ]
  },
  {
   "cell_type": "markdown",
   "id": "123be215",
   "metadata": {},
   "source": [
    " Start by taking a small piece of the dog image, say the lower left corner."
   ]
  },
  {
   "cell_type": "code",
   "execution_count": null,
   "id": "631f6275",
   "metadata": {},
   "outputs": [],
   "source": [
    "grass = dog_hsv[-200:, :200, :] #dog_hsv[266-50:266, 0:50, :]\n",
    "plt.imshow(ski.color.hsv2rgb(grass))"
   ]
  },
  {
   "cell_type": "markdown",
   "id": "1748d6d3",
   "metadata": {},
   "source": [
    "How can we figure out what \"green\" looks like in HSV?"
   ]
  },
  {
   "cell_type": "code",
   "execution_count": null,
   "id": "7c5d10dd",
   "metadata": {},
   "outputs": [],
   "source": [
    "mu = grass.mean(axis = (0, 1))\n",
    "mu"
   ]
  },
  {
   "cell_type": "markdown",
   "id": "f644b632",
   "metadata": {},
   "source": [
    "We can preview this \"green\" by making a 2x2 swatch."
   ]
  },
  {
   "cell_type": "code",
   "execution_count": null,
   "id": "c79727dd",
   "metadata": {},
   "outputs": [],
   "source": [
    "swatch = np.stack(4 * [mu]).reshape((2, 2, 3))\n",
    "plt.imshow(ski.color.hsv2rgb(swatch))"
   ]
  },
  {
   "cell_type": "markdown",
   "id": "f94e9509",
   "metadata": {},
   "source": [
    "Now we need to get all pixels with a hue \"nearby\" the grass mean.\n",
    "\n",
    "How can we define \"nearby\"?"
   ]
  },
  {
   "cell_type": "code",
   "execution_count": null,
   "id": "175b57f2",
   "metadata": {},
   "outputs": [],
   "source": [
    "sd = grass.std(axis = (0, 1))\n",
    "sd"
   ]
  },
  {
   "cell_type": "code",
   "execution_count": null,
   "id": "44e4b200",
   "metadata": {},
   "outputs": [],
   "source": [
    "tol = (mu[0] - 3 * sd[0], mu[0] + 3 * sd[0])\n",
    "tol"
   ]
  },
  {
   "cell_type": "code",
   "execution_count": null,
   "id": "12710c91",
   "metadata": {},
   "outputs": [],
   "source": [
    "reddog = dog_hsv.copy()\n",
    "is_green = (tol[0] <= reddog[:, :, 0]) & (reddog[:, :, 0] <= tol[1])\n",
    "reddog[is_green, 0] = 0\n",
    "plt.imshow(ski.color.hsv2rgb(reddog))"
   ]
  },
  {
   "cell_type": "markdown",
   "id": "57093565",
   "metadata": {},
   "source": [
    "What would happen if we tried this with RGB instead of HSV?"
   ]
  }
 ],
 "metadata": {
  "kernelspec": {
   "display_name": "Python 3 (ipykernel)",
   "language": "python",
   "name": "python3"
  },
  "language_info": {
   "codemirror_mode": {
    "name": "ipython",
    "version": 3
   },
   "file_extension": ".py",
   "mimetype": "text/x-python",
   "name": "python",
   "nbconvert_exporter": "python",
   "pygments_lexer": "ipython3",
   "version": "3.11.5"
  }
 },
 "nbformat": 4,
 "nbformat_minor": 5
}
