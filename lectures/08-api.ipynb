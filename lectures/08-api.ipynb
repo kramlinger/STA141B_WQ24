{
 "cells": [
  {
   "cell_type": "markdown",
   "id": "ff704263",
   "metadata": {
    "slideshow": {
     "slide_type": "slide"
    }
   },
   "source": [
    "# STA 141B Data & Web Technologies for Data Analysis\n",
    "\n",
    "\n",
    "### Lecture 8, 2/5/24, APIs\n"
   ]
  },
  {
   "cell_type": "markdown",
   "id": "d6d6f0bf",
   "metadata": {
    "slideshow": {
     "slide_type": "slide"
    }
   },
   "source": [
    "### Last week's topics\n",
    "\n",
    "- APIs"
   ]
  },
  {
   "cell_type": "markdown",
   "id": "c1536a20",
   "metadata": {
    "slideshow": {
     "slide_type": "slide"
    }
   },
   "source": [
    "### Today's topics\n",
    "\n",
    "- Undocumented APIs\n",
    "\n",
    "### Ressources\n",
    " - [Yolo County Health Inspections](https://yoloeco.envisionconnect.com/)"
   ]
  },
  {
   "cell_type": "markdown",
   "id": "c6932e32",
   "metadata": {},
   "source": [
    "### Recap: HTTP\n",
    "\n",
    "A response to an HTTP request always includes a status code that summarizes whether the request was successful. Wikipedia has a full [list of HTTP status codes](https://en.wikipedia.org/wiki/List_of_HTTP_status_codes). Generally,\n",
    "\n",
    "* 200-299: Your request succeeded.\n",
    "* 300-399: You need to take further action to complete the request.\n",
    "* 400-499: Your request wasn't valid (you made a mistake). You've probably seen 404 before!\n",
    "* 500-599: Your request failed (the server made a mistake)."
   ]
  },
  {
   "cell_type": "code",
   "execution_count": null,
   "id": "46ffd08a",
   "metadata": {},
   "outputs": [],
   "source": [
    "import requests"
   ]
  },
  {
   "cell_type": "code",
   "execution_count": null,
   "id": "e0fb9064",
   "metadata": {},
   "outputs": [],
   "source": []
  },
  {
   "cell_type": "markdown",
   "id": "0c23e597",
   "metadata": {},
   "source": [
    "### Undocumented Web APIs\n",
    "\n",
    "Many websites use undocumented web APIs to get data. For example:\n",
    "\n",
    " - [University of California Compensation](https://ucannualwage.ucop.edu/wage/)\n",
    " - [Yolo County Health Inspections](https://yoloeco.envisionconnect.com/)\n",
    "\n",
    "You can identify these websites by looking at requests in your browser's developer tools. For Firefox and Chrome these can be accessed (Windows: <kbd>Ctrl</kbd> + <kbd>i</kbd>; MacOS: <kbd>&#8984;</kbd> + <kbd>&#8997;</kbd> + <kbd>i</kbd>).\n",
    "\n",
    "Requests to web APIs almost always return JSON or XML data. By examining the browser requests, you can work out the endpoints and parameters, allowing you to use the API.\n",
    "\n",
    "**CAUTION:** Web APIs that are undocumented are often undocumented for a reason. Using an undocumented API may make someone angry or get you into legal trouble! Government and quasi-government websites (like the examples above) are probably okay, as long as you cache and rate-limit your requests. For everything else, find for an alternative or get permission first."
   ]
  },
  {
   "cell_type": "markdown",
   "id": "bd9e07a4",
   "metadata": {},
   "source": [
    "Let's reverse engineer the Yolo County Health Inspections web API so that we can get data about local restaurants."
   ]
  },
  {
   "cell_type": "code",
   "execution_count": null,
   "id": "c53ee900",
   "metadata": {},
   "outputs": [],
   "source": [
    "import numpy as np\n",
    "import pandas as pd\n",
    "import requests\n",
    "import requests_cache\n",
    "requests_cache.install_cache(\"lecture5\")"
   ]
  },
  {
   "cell_type": "code",
   "execution_count": null,
   "id": "f7baad16",
   "metadata": {},
   "outputs": [],
   "source": [
    "url = 'https://yoloeco.envisionconnect.com/api/pressAgentClient/searchFacilities'"
   ]
  },
  {
   "cell_type": "code",
   "execution_count": null,
   "id": "1be876d9",
   "metadata": {},
   "outputs": [],
   "source": [
    "result = requests.post(url, params = {\n",
    "    'PressAgentOid': 'c08cb189-894c-4c8c-b595-a5ef010226b4'\n",
    "}, \n",
    "                       data = {\n",
    "    'FacilityName': \"Ali Baba\"\n",
    "})\n",
    "result.raise_for_status()"
   ]
  },
  {
   "cell_type": "markdown",
   "id": "e3030b02",
   "metadata": {},
   "source": [
    "Check the [docs](https://requests.readthedocs.io/en/latest/api/?highlight=post#requests.post) for `requests`!"
   ]
  },
  {
   "cell_type": "code",
   "execution_count": null,
   "id": "53f2d940",
   "metadata": {},
   "outputs": [],
   "source": [
    "result.url"
   ]
  },
  {
   "cell_type": "code",
   "execution_count": null,
   "id": "9aaf314f",
   "metadata": {},
   "outputs": [],
   "source": [
    "result.json()"
   ]
  },
  {
   "cell_type": "markdown",
   "id": "a86b821d",
   "metadata": {},
   "source": [
    "Lets investigate this further. The second request uses the `FacilityID` as parameter. "
   ]
  },
  {
   "cell_type": "code",
   "execution_count": null,
   "id": "eef507a6",
   "metadata": {},
   "outputs": [],
   "source": [
    "url = 'https://yoloeco.envisionconnect.com/api/pressAgentClient/programs'\n",
    "result = requests.get(url, params = {\n",
    "    'FacilityId': 'FA0001973', \n",
    "    'PressAgentOid': 'c08cb189-894c-4c8c-b595-a5ef010226b4'\n",
    "})\n",
    "result.raise_for_status()\n",
    "result.json()"
   ]
  },
  {
   "cell_type": "code",
   "execution_count": null,
   "id": "0593c260",
   "metadata": {},
   "outputs": [],
   "source": [
    "result.url"
   ]
  },
  {
   "cell_type": "markdown",
   "id": "27615fde",
   "metadata": {},
   "source": [
    "We are interested in the inspections text, for which we have to provide the `ProgramID` parameter. "
   ]
  },
  {
   "cell_type": "code",
   "execution_count": null,
   "id": "58f30f55",
   "metadata": {},
   "outputs": [],
   "source": [
    "url = 'https://yoloeco.envisionconnect.com/api/pressAgentClient/inspections'"
   ]
  },
  {
   "cell_type": "code",
   "execution_count": null,
   "id": "18d899cd",
   "metadata": {},
   "outputs": [],
   "source": [
    "result = requests.get(url, params = {\n",
    "    'PressAgentOid': 'c08cb189-894c-4c8c-b595-a5ef010226b4', \n",
    "    'ProgramId': 'PR0000674'\n",
    "})\n",
    "result.raise_for_status()"
   ]
  },
  {
   "cell_type": "code",
   "execution_count": null,
   "id": "ba6f9609",
   "metadata": {},
   "outputs": [],
   "source": [
    "results = result.json()\n",
    "results"
   ]
  },
  {
   "cell_type": "code",
   "execution_count": null,
   "id": "d5b811ce",
   "metadata": {},
   "outputs": [],
   "source": [
    "results_df = pd.DataFrame(results)\n",
    "results_df"
   ]
  },
  {
   "cell_type": "code",
   "execution_count": null,
   "id": "217a7df1",
   "metadata": {
    "scrolled": true
   },
   "outputs": [],
   "source": [
    "results_df['violations'][1]"
   ]
  },
  {
   "cell_type": "code",
   "execution_count": null,
   "id": "e5ef9d22",
   "metadata": {},
   "outputs": [],
   "source": [
    "results_df['violations'][1][0]['v_memo']"
   ]
  },
  {
   "cell_type": "code",
   "execution_count": null,
   "id": "570a09a4",
   "metadata": {},
   "outputs": [],
   "source": [
    "len(results_df['violations'][1])"
   ]
  },
  {
   "cell_type": "code",
   "execution_count": null,
   "id": "3f75e57a",
   "metadata": {},
   "outputs": [],
   "source": [
    "violations = [\n",
    "    results_df['violations'][1][i]['violation_description'] for i in range(len(results_df['violations'][1]))\n",
    "]\n",
    "violations"
   ]
  },
  {
   "cell_type": "code",
   "execution_count": null,
   "id": "89b732fe",
   "metadata": {},
   "outputs": [],
   "source": [
    "{'Ali Baba': violations}"
   ]
  },
  {
   "cell_type": "markdown",
   "id": "aabee068",
   "metadata": {},
   "source": [
    "How can we generalize this procedure? "
   ]
  },
  {
   "cell_type": "code",
   "execution_count": null,
   "id": "246f49d9",
   "metadata": {},
   "outputs": [],
   "source": [
    "url = 'https://yoloeco.envisionconnect.com/api/pressAgentClient/searchFacilities'"
   ]
  },
  {
   "cell_type": "code",
   "execution_count": null,
   "id": "d79d5228",
   "metadata": {},
   "outputs": [],
   "source": [
    "result=requests.post(url, params  = {\n",
    "    \"PressAgentOid\": \"c08cb189-894c-4c8c-b595-a5ef010226b4\"\n",
    "}, \n",
    "                     data = {\n",
    "    \"FacilityName\": \"Ali Baba\", \n",
    "})\n",
    "result.raise_for_status()"
   ]
  },
  {
   "cell_type": "code",
   "execution_count": null,
   "id": "3f832408",
   "metadata": {},
   "outputs": [],
   "source": [
    "result.json()"
   ]
  },
  {
   "cell_type": "code",
   "execution_count": null,
   "id": "48e87ebe",
   "metadata": {
    "scrolled": true
   },
   "outputs": [],
   "source": [
    "result=requests.post(url, params  = {\n",
    "    \"PressAgentOid\": \"c08cb189-894c-4c8c-b595-a5ef010226b4\"}, \n",
    "              data = {\n",
    "    \"FacilityName\": \"a\", \n",
    "})\n",
    "result.json()"
   ]
  },
  {
   "cell_type": "code",
   "execution_count": null,
   "id": "eca94fc2",
   "metadata": {
    "scrolled": true
   },
   "outputs": [],
   "source": [
    "pd.DataFrame(result.json())"
   ]
  },
  {
   "cell_type": "markdown",
   "id": "ff745e1d",
   "metadata": {},
   "source": [
    "Lets write a pipeline. "
   ]
  },
  {
   "cell_type": "code",
   "execution_count": null,
   "id": "127afbfe",
   "metadata": {},
   "outputs": [],
   "source": [
    "def fetch_violations(ProgramId):\n",
    "    result = requests.get('https://yoloeco.envisionconnect.com/api/pressAgentClient/inspections', \n",
    "                          params = {\n",
    "        'PressAgentOid': 'c08cb189-894c-4c8c-b595-a5ef010226b4', \n",
    "        'ProgramId': ProgramId\n",
    "    })\n",
    "    result.raise_for_status()\n",
    "    results = result.json()\n",
    "    results_df = pd.DataFrame(results)\n",
    "    violations = [\n",
    "        results_df['violations'][0][i]['violation_description'] for i in range(len(results_df['violations'][0]))\n",
    "    ]\n",
    "    return(violations)"
   ]
  },
  {
   "cell_type": "code",
   "execution_count": null,
   "id": "39844aee",
   "metadata": {},
   "outputs": [],
   "source": [
    "fetch_violations('PR0024103') # for in-n-out"
   ]
  },
  {
   "cell_type": "code",
   "execution_count": null,
   "id": "e060079a",
   "metadata": {},
   "outputs": [],
   "source": [
    "result = requests.get('https://yoloeco.envisionconnect.com/api/pressAgentClient/inspections', \n",
    "                          params = {\n",
    "        'PressAgentOid': 'c08cb189-894c-4c8c-b595-a5ef010226b4', \n",
    "        'ProgramId': 'PR0024103'\n",
    "    })"
   ]
  },
  {
   "cell_type": "code",
   "execution_count": null,
   "id": "622fe76f",
   "metadata": {
    "scrolled": true
   },
   "outputs": [],
   "source": [
    "result.text"
   ]
  },
  {
   "cell_type": "code",
   "execution_count": null,
   "id": "d1c73fbd",
   "metadata": {},
   "outputs": [],
   "source": [
    "def fetch_ProgramId(FacilityID):\n",
    "    result = requests.get('https://yoloeco.envisionconnect.com/api/pressAgentClient/programs', \n",
    "                          params = {\n",
    "        'PressAgentOid': 'c08cb189-894c-4c8c-b595-a5ef010226b4', \n",
    "        'FacilityID': FacilityID\n",
    "    })\n",
    "    result.raise_for_status()\n",
    "    ProgramId = result.json()[0]['ProgramId']\n",
    "    return(ProgramId)"
   ]
  },
  {
   "cell_type": "code",
   "execution_count": null,
   "id": "cdfcb312",
   "metadata": {},
   "outputs": [],
   "source": [
    "fetch_ProgramId('FA0003293')"
   ]
  },
  {
   "cell_type": "code",
   "execution_count": null,
   "id": "ccccc840",
   "metadata": {},
   "outputs": [],
   "source": [
    "def fetch_FacilityID(letter):\n",
    "    result = requests.post('https://yoloeco.envisionconnect.com/api/pressAgentClient/searchFacilities?', \n",
    "                           params  = {\n",
    "    \"PressAgentOid\": \"c08cb189-894c-4c8c-b595-a5ef010226b4\"}, \n",
    "                           data = {\n",
    "    \"FacilityName\": letter, \n",
    "    })\n",
    "    facility_table = pd.DataFrame(result.json())[['FacilityId', 'FacilityName']]\n",
    "    return(facility_table)"
   ]
  },
  {
   "cell_type": "code",
   "execution_count": null,
   "id": "63370b98",
   "metadata": {
    "scrolled": true
   },
   "outputs": [],
   "source": [
    "fetch_FacilityID('in')"
   ]
  },
  {
   "cell_type": "code",
   "execution_count": null,
   "id": "77e829ac",
   "metadata": {},
   "outputs": [],
   "source": [
    "import time"
   ]
  },
  {
   "cell_type": "code",
   "execution_count": null,
   "id": "75d40147",
   "metadata": {},
   "outputs": [],
   "source": [
    "[letter for letter in map(chr, range(97, 99))]"
   ]
  },
  {
   "cell_type": "code",
   "execution_count": null,
   "id": "da42b735",
   "metadata": {},
   "outputs": [],
   "source": [
    "x = {}\n",
    "type(x)"
   ]
  },
  {
   "cell_type": "code",
   "execution_count": null,
   "id": "594f93e0",
   "metadata": {},
   "outputs": [],
   "source": [
    "def get_violations(): \n",
    "    violations = {}\n",
    "    for letter in map(chr, range(97, 99)): # map(chr, range(97, 123)) takes too long\n",
    "        time.sleep(0.05) # sleep until making a request for each letter\n",
    "        facility_table = fetch_FacilityID(letter)\n",
    "        for index in range(facility_table.shape[0]): # for all facilities returned for this letter\n",
    "            FacilityId, FacilityName = facility_table.iloc[index]\n",
    "            time.sleep(0.1) # sleep again for each individual request\n",
    "            ProgramId = fetch_ProgramId(FacilityId)\n",
    "            print(FacilityName)\n",
    "            violations[FacilityName] = fetch_violations(ProgramId)\n",
    "    return(violations)"
   ]
  },
  {
   "cell_type": "code",
   "execution_count": null,
   "id": "e0b74727",
   "metadata": {},
   "outputs": [],
   "source": [
    "violations = get_violations()"
   ]
  },
  {
   "cell_type": "code",
   "execution_count": null,
   "id": "f3d091db",
   "metadata": {},
   "outputs": [],
   "source": [
    "fetch_FacilityID('A&B LIQUOR')"
   ]
  },
  {
   "cell_type": "code",
   "execution_count": null,
   "id": "62943f86",
   "metadata": {},
   "outputs": [],
   "source": [
    "fetch_ProgramID('FA0001345')"
   ]
  },
  {
   "cell_type": "code",
   "execution_count": null,
   "id": "14c15c81",
   "metadata": {},
   "outputs": [],
   "source": [
    "ProgramId = fetch_ProgramId('FA0001345')            \n",
    "ProgramId"
   ]
  },
  {
   "cell_type": "code",
   "execution_count": null,
   "id": "1396c86e",
   "metadata": {},
   "outputs": [],
   "source": [
    "fetch_violations('PR0000623')"
   ]
  },
  {
   "cell_type": "code",
   "execution_count": null,
   "id": "f9cb86a0",
   "metadata": {},
   "outputs": [],
   "source": [
    "result = requests.get('https://yoloeco.envisionconnect.com/api/pressAgentClient/inspections', params = {\n",
    "        'PressAgentOid': 'c08cb189-894c-4c8c-b595-a5ef010226b4', \n",
    "        'ProgramId': 'PR0000623'\n",
    "})\n",
    "result.raise_for_status()"
   ]
  },
  {
   "cell_type": "code",
   "execution_count": null,
   "id": "39ba4674",
   "metadata": {},
   "outputs": [],
   "source": [
    "results = result.json()\n",
    "results"
   ]
  },
  {
   "cell_type": "markdown",
   "id": "61c29782",
   "metadata": {},
   "source": [
    "Lets check this in the browser! "
   ]
  },
  {
   "cell_type": "code",
   "execution_count": null,
   "id": "0d8fe75e",
   "metadata": {},
   "outputs": [],
   "source": [
    "result = requests.get('https://yoloeco.envisionconnect.com/api/pressAgentClient/programs', params = {\n",
    "        'PressAgentOid': 'c08cb189-894c-4c8c-b595-a5ef010226b4', \n",
    "        'FacilityID': 'FA0001345'\n",
    "    }).json()\n",
    "[result[i]['ProgramId'] for i in range(len(result))]"
   ]
  },
  {
   "cell_type": "code",
   "execution_count": null,
   "id": "030cdc6a",
   "metadata": {},
   "outputs": [],
   "source": [
    "def fetch_ProgramId(FacilityID):\n",
    "    result = requests.get('https://yoloeco.envisionconnect.com/api/pressAgentClient/programs', params = {\n",
    "        'PressAgentOid': 'c08cb189-894c-4c8c-b595-a5ef010226b4', \n",
    "        'FacilityID': FacilityID\n",
    "    }).json()\n",
    "    ProgramId = [result[i]['ProgramId'] for i in range(len(result))]\n",
    "    return(ProgramId)"
   ]
  },
  {
   "cell_type": "code",
   "execution_count": null,
   "id": "738cf605",
   "metadata": {},
   "outputs": [],
   "source": [
    "fetch_ProgramId('FA0001345')"
   ]
  },
  {
   "cell_type": "code",
   "execution_count": null,
   "id": "2a890753",
   "metadata": {},
   "outputs": [],
   "source": [
    "def fetch_violations(ProgramId_list):\n",
    "    violations = []\n",
    "    for ProgramId in ProgramId_list: \n",
    "        result = requests.get('https://yoloeco.envisionconnect.com/api/pressAgentClient/inspections', params = {\n",
    "            'PressAgentOid': 'c08cb189-894c-4c8c-b595-a5ef010226b4', \n",
    "            'ProgramId': ProgramId\n",
    "        }).json()\n",
    "        results_df = pd.DataFrame(result)\n",
    "        if not results_df.empty: # only append violations if there are any\n",
    "            violations.extend(\n",
    "                [results_df['violations'][0][i]['violation_description'] for i in range(len(results_df['violations'][0]))]\n",
    "            )\n",
    "    return(violations)"
   ]
  },
  {
   "cell_type": "code",
   "execution_count": null,
   "id": "89b607ad",
   "metadata": {},
   "outputs": [],
   "source": [
    "fetch_violations(['PR0000623', 'PR0069422'])"
   ]
  },
  {
   "cell_type": "code",
   "execution_count": null,
   "id": "fcf041ba",
   "metadata": {
    "scrolled": true
   },
   "outputs": [],
   "source": [
    "violations = get_violations()"
   ]
  },
  {
   "cell_type": "code",
   "execution_count": null,
   "id": "b439fcc2",
   "metadata": {},
   "outputs": [],
   "source": [
    "violations"
   ]
  },
  {
   "cell_type": "markdown",
   "id": "f30cd5ab",
   "metadata": {},
   "source": [
    "#### Safeway\n",
    "\n",
    "Check the [docs](https://requests.readthedocs.io/en/latest/api/?requests.get)!"
   ]
  },
  {
   "cell_type": "code",
   "execution_count": null,
   "id": "8f9d64f2",
   "metadata": {},
   "outputs": [],
   "source": [
    "url = 'https://www.safeway.com/abs/pub/xapi/pgmsearch/v1/search/products'\n",
    "params = {\n",
    "    'request-id': 9401706033563384632,\n",
    "    'q': 'eggs',\n",
    "    'rows': 30,\n",
    "    'start': 0,\n",
    "    'search-type': 'keyword',\n",
    "    'storeid': 3132,\n",
    "    'featured': 'true',\n",
    "    'url': 'https://www.safeway.com',\n",
    "    'pageurl': 'https://www.safeway.com', \n",
    "    'search-uid': 'uid%3D3640904575678%3Av%3D12.0%3Ats%3D1674581210532%3Ahc%3D3', \n",
    "    'pagename': 'search',\n",
    "    'dvid': 'web-4.1search',\n",
    "}\n",
    "header = {\n",
    "    'Ocp-Apim-Subscription-Key': '5e790236c84e46338f4290aa1050cdd4', \n",
    "}"
   ]
  },
  {
   "cell_type": "code",
   "execution_count": null,
   "id": "22eae60e",
   "metadata": {
    "scrolled": true
   },
   "outputs": [],
   "source": [
    "results = requests.get(url, params=params)\n",
    "results.raise_for_status()"
   ]
  },
  {
   "cell_type": "code",
   "execution_count": null,
   "id": "839bc0a5",
   "metadata": {},
   "outputs": [],
   "source": [
    "results = requests.get(url, params=params, headers=header)\n",
    "results.json()"
   ]
  },
  {
   "cell_type": "code",
   "execution_count": null,
   "id": "05a86f10",
   "metadata": {},
   "outputs": [],
   "source": [
    "results.raise_for_status"
   ]
  },
  {
   "cell_type": "markdown",
   "id": "c6ef778a",
   "metadata": {},
   "source": [
    "### Summary \n",
    "\n",
    "- Check the query type, header and params using the developer tools \n",
    "- Often, multiple API queries are made to display one result "
   ]
  }
 ],
 "metadata": {
  "kernelspec": {
   "display_name": "Python 3 (ipykernel)",
   "language": "python",
   "name": "python3"
  },
  "language_info": {
   "codemirror_mode": {
    "name": "ipython",
    "version": 3
   },
   "file_extension": ".py",
   "mimetype": "text/x-python",
   "name": "python",
   "nbconvert_exporter": "python",
   "pygments_lexer": "ipython3",
   "version": "3.9.12"
  }
 },
 "nbformat": 4,
 "nbformat_minor": 5
}
