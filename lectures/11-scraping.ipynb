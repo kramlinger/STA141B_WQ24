{
 "cells": [
  {
   "cell_type": "markdown",
   "id": "ff704263",
   "metadata": {
    "slideshow": {
     "slide_type": "slide"
    }
   },
   "source": [
    "# STA 141B Data & Web Technologies for Data Analysis\n",
    "\n",
    "### Lecture 11, 2/14/24, Scraping"
   ]
  },
  {
   "cell_type": "markdown",
   "id": "7b683b1a",
   "metadata": {},
   "source": [
    "### Today's topics\n",
    "- Scraping with Java Script\n",
    "- GraphQL\n",
    "    \n",
    "### Ressources\n",
    "- Mitchell: Scraping with Python, Chapters 9 and 10\n",
    "- [GraphQL](https://www.mobilelive.ca/blog/graphql-vs-rest-what-you-didnt-know) (Attention: This is infotainment!)"
   ]
  },
  {
   "cell_type": "markdown",
   "id": "e1c4f5b2",
   "metadata": {},
   "source": [
    "### Scraping from `ratemyprofessors.com`\n",
    "\n",
    "We are interested in retrieving information from the webpage [`ratemyprofessors.com`](https://www.ratemyprofessors.com/). By navigating with our browser, we find that all professors at UCD can be retrieved as follows. "
   ]
  },
  {
   "cell_type": "code",
   "execution_count": null,
   "id": "995f4c92",
   "metadata": {},
   "outputs": [],
   "source": [
    "import requests"
   ]
  },
  {
   "cell_type": "code",
   "execution_count": null,
   "id": "c2fcfe4a",
   "metadata": {},
   "outputs": [],
   "source": [
    "endpoint = 'https://www.ratemyprofessors.com/search/professors/1073?'\n",
    "params = {'q':'*'}"
   ]
  },
  {
   "cell_type": "code",
   "execution_count": null,
   "id": "62a14c8a",
   "metadata": {},
   "outputs": [],
   "source": [
    "result=requests.get(endpoint, params)\n",
    "result.raise_for_status"
   ]
  },
  {
   "cell_type": "code",
   "execution_count": null,
   "id": "08fc97aa",
   "metadata": {},
   "outputs": [],
   "source": [
    "import lxml\n",
    "from bs4 import BeautifulSoup"
   ]
  },
  {
   "cell_type": "code",
   "execution_count": null,
   "id": "5a54647c",
   "metadata": {},
   "outputs": [],
   "source": [
    "html = BeautifulSoup(result.text,'lxml')\n",
    "print(html.prettify()) "
   ]
  },
  {
   "cell_type": "code",
   "execution_count": null,
   "id": "ac5bfc7c",
   "metadata": {},
   "outputs": [],
   "source": [
    "result.text.find(\"Lynn\")"
   ]
  },
  {
   "cell_type": "code",
   "execution_count": null,
   "id": "38967705",
   "metadata": {},
   "outputs": [],
   "source": [
    "result.text.find(\"Stylianos\")"
   ]
  },
  {
   "cell_type": "markdown",
   "id": "383778c4",
   "metadata": {},
   "source": [
    "As we have already seen in the wikipedia example, the website (html) rendered by the browser does not coincide with the html returned by the request. Apparently, some information is fetched while the *browser* executed JS. \n",
    "\n",
    "The running of scripts is a client-side operation run in the browser itself, rather\n",
    "than on a web server. \n",
    "\n",
    "JavaScript is, by far, the most common and most well-supported client-side scripting\n",
    "language on the Web today. It can be used to collect information for user tracking,\n",
    "submit forms without reloading the page, embed multimedia, and even power entire\n",
    "online games. Even deceptively simple-looking pages can often contain multiple\n",
    "pieces of JavaScript. You can find it embedded between `<script>` tags in the page’s\n",
    "source code."
   ]
  },
  {
   "cell_type": "markdown",
   "id": "794bcdb3",
   "metadata": {},
   "source": [
    "Since we are interested in the rendered html displayed by the browser, we have to artificialy render it first, then return the rendered html as a string. This can be achieved with `Selenium`. \n",
    "\n",
    "Selenium is a powerful web scraping tool developed originally for website testing.\n",
    "These days it’s also used when the accurate portrayal of websites—as they appear in a\n",
    "browser—is required. Selenium works by automating browsers to load the website,\n",
    "retrieve the required data, and even take screenshots or assert that certain actions\n",
    "happen on the website."
   ]
  },
  {
   "cell_type": "code",
   "execution_count": null,
   "id": "c4ece51f",
   "metadata": {},
   "outputs": [],
   "source": [
    "from selenium import webdriver\n",
    "from selenium.webdriver.chrome.service import Service\n",
    "from webdriver_manager.chrome import ChromeDriverManager\n",
    "\n",
    "driver = webdriver.Chrome(service=Service(ChromeDriverManager().install()))"
   ]
  },
  {
   "cell_type": "code",
   "execution_count": null,
   "id": "7ad2b9b5",
   "metadata": {},
   "outputs": [],
   "source": [
    "url = result.url\n",
    "url"
   ]
  },
  {
   "cell_type": "code",
   "execution_count": null,
   "id": "f9bdfe0e",
   "metadata": {},
   "outputs": [],
   "source": [
    "# driver.get(url)"
   ]
  },
  {
   "cell_type": "markdown",
   "id": "9aea1c65",
   "metadata": {},
   "source": [
    "We have already seen that it takes a while to load the page in the browser. We don't have time for this. "
   ]
  },
  {
   "cell_type": "code",
   "execution_count": null,
   "id": "00a812ee",
   "metadata": {},
   "outputs": [],
   "source": [
    "from selenium.common.exceptions import TimeoutException\n",
    "driver.set_page_load_timeout(20) # twenty seconds should be enough\n",
    "\n",
    "try:\n",
    "    driver.get(url)\n",
    "except TimeoutException:\n",
    "    driver.execute_script(\"window.stop();\")"
   ]
  },
  {
   "cell_type": "markdown",
   "id": "19647c1e",
   "metadata": {},
   "source": [
    "Other professors are not displayed. For that, we have to hit the button `show more`, or, better, specify that we are only interested in stats professors. "
   ]
  },
  {
   "cell_type": "markdown",
   "id": "ae47bc55",
   "metadata": {},
   "source": [
    "How do we navigate on this page? First, we need to get rid of the cookies banner. Using developer tools, we can inspect find the 'close' button for the cookies banner: \n",
    "\n",
    "    \"/html/body/div[5]/div/div/button\""
   ]
  },
  {
   "cell_type": "markdown",
   "id": "32de6faa",
   "metadata": {},
   "source": [
    "See the [docs](https://www.selenium.dev/selenium/docs/api/py/index.html)!"
   ]
  },
  {
   "cell_type": "code",
   "execution_count": null,
   "id": "ada08c1d",
   "metadata": {},
   "outputs": [],
   "source": [
    "button=driver.find_element(\"xpath\", \"/html/body/div[5]/div/div/button\")\n",
    "button.click()"
   ]
  },
  {
   "cell_type": "code",
   "execution_count": null,
   "id": "5e0483c2",
   "metadata": {
    "scrolled": true
   },
   "outputs": [],
   "source": [
    "button=driver.find_element(\"xpath\", '//*[@id=\"bx-close-inside-1177612\"]')\n",
    "button.click()"
   ]
  },
  {
   "cell_type": "markdown",
   "id": "ecd3851f",
   "metadata": {},
   "source": [
    "Next, we should select the stats professors. To do so, we need to access the dropdown menu. From the developer tools, we find that its coded as `div` element, so we cannot use the implemented `select` method to access the dropdown. \n",
    "\n",
    "First, we need to find which `div` actually opens the dropdown. "
   ]
  },
  {
   "cell_type": "code",
   "execution_count": null,
   "id": "7489d348",
   "metadata": {},
   "outputs": [],
   "source": [
    "driver.set_page_load_timeout(4) # twenty seconds should be enough\n",
    "\n",
    "try:\n",
    "    driver.find_element(\"xpath\", '//div[@class=\" css-1l6bn5c-control\"]').click()\n",
    "except TimeoutException:\n",
    "    driver.execute_script(\"window.stop();\")"
   ]
  },
  {
   "cell_type": "markdown",
   "id": "4d6b9077",
   "metadata": {},
   "source": [
    "Lets see how the html looks like in the dropdown menu. "
   ]
  },
  {
   "cell_type": "code",
   "execution_count": null,
   "id": "671d4ce6",
   "metadata": {},
   "outputs": [],
   "source": [
    "import lxml.html as lx\n",
    "from lxml import etree\n",
    "\n",
    "html = lx.fromstring(driver.page_source)"
   ]
  },
  {
   "cell_type": "code",
   "execution_count": null,
   "id": "1cc11c97",
   "metadata": {},
   "outputs": [],
   "source": [
    "driver.page_source.find(\"Statistics\")"
   ]
  },
  {
   "cell_type": "code",
   "execution_count": null,
   "id": "9de5a828",
   "metadata": {},
   "outputs": [],
   "source": [
    "html.xpath('//div[contains(text(),\"Statistics\")]/@*')"
   ]
  },
  {
   "cell_type": "code",
   "execution_count": null,
   "id": "0430367e",
   "metadata": {},
   "outputs": [],
   "source": [
    "html.xpath('name(//div[contains(text(),\"Statistics\")]/@*[2])')"
   ]
  },
  {
   "cell_type": "code",
   "execution_count": null,
   "id": "e1986243",
   "metadata": {},
   "outputs": [],
   "source": [
    "dropdown = html.xpath('//div[@id=\"react-select-3-option-86\"]')[0]"
   ]
  },
  {
   "cell_type": "code",
   "execution_count": null,
   "id": "34e308f8",
   "metadata": {},
   "outputs": [],
   "source": [
    "dropdown"
   ]
  },
  {
   "cell_type": "code",
   "execution_count": null,
   "id": "a9682ada",
   "metadata": {
    "scrolled": true
   },
   "outputs": [],
   "source": [
    "print(BeautifulSoup(etree.tostring(dropdown),'lxml').prettify())"
   ]
  },
  {
   "cell_type": "markdown",
   "id": "a6dbebb1",
   "metadata": {},
   "source": [
    "We ought to select the element with `id=\"react-select-3-option-86\"`. "
   ]
  },
  {
   "cell_type": "code",
   "execution_count": null,
   "id": "202bf82f",
   "metadata": {},
   "outputs": [],
   "source": [
    "driver.find_element(\"xpath\", '//div[@id=\"react-select-3-option-86\"]').click()"
   ]
  },
  {
   "cell_type": "markdown",
   "id": "fa67ace2",
   "metadata": {},
   "source": [
    "We learn that there are 102 professors in the Statistics department, but only 8 are shown. Further investigation shows that we might use the class attribute that contains `Pagination button`. "
   ]
  },
  {
   "cell_type": "code",
   "execution_count": null,
   "id": "d6488c62",
   "metadata": {},
   "outputs": [],
   "source": [
    "button=driver.find_element(\"xpath\", \"//button[contains(@class, 'PaginationButton')]\")\n",
    "button.click()"
   ]
  },
  {
   "cell_type": "code",
   "execution_count": null,
   "id": "cd11fc42",
   "metadata": {},
   "outputs": [],
   "source": [
    "import time"
   ]
  },
  {
   "cell_type": "code",
   "execution_count": null,
   "id": "179b046a",
   "metadata": {},
   "outputs": [],
   "source": [
    "while True: \n",
    "    try: \n",
    "        time.sleep(0.2)\n",
    "        button=driver.find_element(\"xpath\", \"//button[contains(@class, 'PaginationButton')]\")\n",
    "        button.click()\n",
    "    except: \n",
    "        break"
   ]
  },
  {
   "cell_type": "code",
   "execution_count": null,
   "id": "db6945f9",
   "metadata": {},
   "outputs": [],
   "source": [
    "html = lx.fromstring(driver.page_source)"
   ]
  },
  {
   "cell_type": "markdown",
   "id": "8892d5b2",
   "metadata": {},
   "source": [
    "We don't need the browser anymore. We can close it. "
   ]
  },
  {
   "cell_type": "code",
   "execution_count": null,
   "id": "7a65fc22",
   "metadata": {},
   "outputs": [],
   "source": [
    "driver.quit()"
   ]
  },
  {
   "cell_type": "code",
   "execution_count": null,
   "id": "4a5b8bd1",
   "metadata": {},
   "outputs": [],
   "source": [
    "html.xpath('//a/@href')"
   ]
  },
  {
   "cell_type": "markdown",
   "id": "8ebee7a9",
   "metadata": {},
   "source": [
    "Since we do not need visual confimation of what the browser does, we can run it in headless mode as well next time. "
   ]
  },
  {
   "cell_type": "code",
   "execution_count": null,
   "id": "afbf952d",
   "metadata": {},
   "outputs": [],
   "source": [
    "#chrome_options.add_argument(\"--headless\")\n",
    "#browser = webdriver.Chrome('./chromedriver', options=chrome_options)"
   ]
  },
  {
   "cell_type": "markdown",
   "id": "8ec883d2",
   "metadata": {},
   "source": [
    "Lets retrieve name and link for now. Any further analysis can be performed similar to our previous case studies. "
   ]
  },
  {
   "cell_type": "code",
   "execution_count": null,
   "id": "62c00f6c",
   "metadata": {},
   "outputs": [],
   "source": [
    "links = html.xpath('//a[@class = \"TeacherCard__StyledTeacherCard-syjs0d-0 dLJIlx\"]/@href')\n",
    "links[1:10]"
   ]
  },
  {
   "cell_type": "code",
   "execution_count": null,
   "id": "c4b3b82e",
   "metadata": {
    "scrolled": true
   },
   "outputs": [],
   "source": [
    "names = html.xpath('//div[@class = \"CardName__StyledCardName-sc-1gyrgim-0 cJdVEK\"]')\n",
    "names = [name.text for name in names]\n",
    "names[1:10]"
   ]
  },
  {
   "cell_type": "code",
   "execution_count": null,
   "id": "e2f57af9",
   "metadata": {},
   "outputs": [],
   "source": [
    "import pandas as pd\n",
    "\n",
    "df=pd.DataFrame({'name': names, 'link': links})\n",
    "df"
   ]
  },
  {
   "cell_type": "markdown",
   "id": "827ac595",
   "metadata": {},
   "source": [
    "So far so good. Next, we will see how these steps could have been achieved somewhat easier. "
   ]
  },
  {
   "cell_type": "markdown",
   "id": "77f6e38d",
   "metadata": {},
   "source": [
    "We have seen that the html was rendered after some JS code has been executed. However, the information we retrieved must have been retrieved by querying some data base. To see which data base was queried using which script, we can use the performance tab in the developer tools. "
   ]
  },
  {
   "cell_type": "markdown",
   "id": "ad9409e0",
   "metadata": {},
   "source": [
    "As it turns out, the information is fetched via *GraphQL*. GraphQL is an API as we have seen them before, but its not a REST API. Facebook developed it as an internal technology for their versatile applications, and later, publicly released it as open-source. Since then, the software development community has utilized it as one of the favourite technology stacks for developing web services.\n",
    "\n",
    "As a query language, GraphQL defines specifications of how a client application can request the needed data from a remote server. As a result, the server application returns a response to the requested client query. The exciting thing to notice here is that the client application can also query exactly what it needs, without relying on the server-side application to define a query. \n",
    "\n",
    "GraphQL has become fairly common. Its adavantage is that due to specific queries, it avoids some problems of REST APIs, namely \n",
    " - Multiple roundtrips with REST\n",
    " - Over-fetching and Under-fetching Problems with REST"
   ]
  },
  {
   "cell_type": "markdown",
   "id": "c78af287",
   "metadata": {},
   "source": [
    "Lets see how the GraphQL request is made. "
   ]
  },
  {
   "cell_type": "code",
   "execution_count": null,
   "id": "46e28d4d",
   "metadata": {},
   "outputs": [],
   "source": [
    "endpoint = 'https://www.ratemyprofessors.com/graphql'\n",
    "headers = {\n",
    "    \"Authorization\": \"Basic dGVzdDp0ZXN0\", \n",
    "}"
   ]
  },
  {
   "cell_type": "code",
   "execution_count": null,
   "id": "fcf7cc22",
   "metadata": {},
   "outputs": [],
   "source": [
    "# first query\n",
    "data = {\n",
    "    \"query\":\"query TeacherSearchResultsPageQuery(\\n  $query: TeacherSearchQuery!\\n  $schoolID: ID\\n) {\\n  search: newSearch {\\n    ...TeacherSearchPagination_search_1ZLmLD\\n  }\\n  school: node(id: $schoolID) {\\n    __typename\\n    ... on School {\\n      name\\n    }\\n    id\\n  }\\n}\\n\\nfragment TeacherSearchPagination_search_1ZLmLD on newSearch {\\n  teachers(query: $query, first: 8, after: \\\"\\\") {\\n    didFallback\\n    edges {\\n      cursor\\n      node {\\n        ...TeacherCard_teacher\\n        id\\n        __typename\\n      }\\n    }\\n    pageInfo {\\n      hasNextPage\\n      endCursor\\n    }\\n    resultCount\\n    filters {\\n      field\\n      options {\\n        value\\n        id\\n      }\\n    }\\n  }\\n}\\n\\nfragment TeacherCard_teacher on Teacher {\\n  id\\n  legacyId\\n  avgRating\\n  numRatings\\n  ...CardFeedback_teacher\\n  ...CardSchool_teacher\\n  ...CardName_teacher\\n  ...TeacherBookmark_teacher\\n}\\n\\nfragment CardFeedback_teacher on Teacher {\\n  wouldTakeAgainPercent\\n  avgDifficulty\\n}\\n\\nfragment CardSchool_teacher on Teacher {\\n  department\\n  school {\\n    name\\n    id\\n  }\\n}\\n\\nfragment CardName_teacher on Teacher {\\n  firstName\\n  lastName\\n}\\n\\nfragment TeacherBookmark_teacher on Teacher {\\n  id\\n  isSaved\\n}\\n\",\n",
    "    \"variables\":{\n",
    "        \"query\":{\n",
    "            \"text\":\"\",\n",
    "            \"schoolID\":\"U2Nob29sLTEwNzM=\",\n",
    "            \"fallback\":True,\n",
    "            \"departmentID\":\"RGVwYXJ0bWVudC0xNDA=\", \n",
    "        },\n",
    "        \"schoolID\":\"U2Nob29sLTEwNzM=\"\n",
    "    }\n",
    "} "
   ]
  },
  {
   "cell_type": "code",
   "execution_count": null,
   "id": "0c712420",
   "metadata": {
    "scrolled": true
   },
   "outputs": [],
   "source": [
    "response = requests.post(endpoint, headers = headers, json=data)\n",
    "response.raise_for_status()\n",
    "result = response.json()\n",
    "result"
   ]
  },
  {
   "cell_type": "code",
   "execution_count": null,
   "id": "905a49f7",
   "metadata": {},
   "outputs": [],
   "source": [
    "def fetch_info(dic): \n",
    "    name = dic['node']['firstName'] + \" \" + dic['node']['lastName']\n",
    "    lid = \"/professor?tid=\" + str(dic['node']['legacyId'])\n",
    "    return name, lid\n",
    "    \n",
    "prof_list = result['data']['search']['teachers']['edges']\n",
    "    \n",
    "[fetch_info(prof) for prof in prof_list]"
   ]
  },
  {
   "cell_type": "markdown",
   "id": "57afd69a",
   "metadata": {},
   "source": [
    "Using developer tools, we find the the subsequent requests can be done using a different data layout. Watch out, the `query` value has changed! "
   ]
  },
  {
   "cell_type": "code",
   "execution_count": null,
   "id": "da71db66",
   "metadata": {},
   "outputs": [],
   "source": [
    "cursor = result['data']['search']['teachers']['pageInfo']['endCursor']\n",
    "cursor"
   ]
  },
  {
   "cell_type": "code",
   "execution_count": null,
   "id": "44e69f50",
   "metadata": {},
   "outputs": [],
   "source": [
    "def new_data(cursor):\n",
    "    data = {\n",
    "        \"query\":\"query TeacherSearchPaginationQuery(\\n  $count: Int!\\n  $cursor: String\\n  $query: TeacherSearchQuery!\\n) {\\n  search: newSearch {\\n    ...TeacherSearchPagination_search_1jWD3d\\n  }\\n}\\n\\nfragment TeacherSearchPagination_search_1jWD3d on newSearch {\\n  teachers(query: $query, first: $count, after: $cursor) {\\n    didFallback\\n    edges {\\n      cursor\\n      node {\\n        ...TeacherCard_teacher\\n        id\\n        __typename\\n      }\\n    }\\n    pageInfo {\\n      hasNextPage\\n      endCursor\\n    }\\n    resultCount\\n    filters {\\n      field\\n      options {\\n        value\\n        id\\n      }\\n    }\\n  }\\n}\\n\\nfragment TeacherCard_teacher on Teacher {\\n  id\\n  legacyId\\n  avgRating\\n  numRatings\\n  ...CardFeedback_teacher\\n  ...CardSchool_teacher\\n  ...CardName_teacher\\n  ...TeacherBookmark_teacher\\n}\\n\\nfragment CardFeedback_teacher on Teacher {\\n  wouldTakeAgainPercent\\n  avgDifficulty\\n}\\n\\nfragment CardSchool_teacher on Teacher {\\n  department\\n  school {\\n    name\\n    id\\n  }\\n}\\n\\nfragment CardName_teacher on Teacher {\\n  firstName\\n  lastName\\n}\\n\\nfragment TeacherBookmark_teacher on Teacher {\\n  id\\n  isSaved\\n}\\n\",\n",
    "        \"variables\":{\n",
    "            \"count\":8,\n",
    "            \"cursor\": cursor, \n",
    "            \"query\":{\n",
    "                \"text\":\"\",\n",
    "                \"schoolID\":\"U2Nob29sLTEwNzM=\",\n",
    "                \"fallback\":True,\n",
    "                \"departmentID\":\"RGVwYXJ0bWVudC0xNDA=\", \n",
    "            }\n",
    "        }\n",
    "    } \n",
    "    return data\n",
    "data = new_data(cursor)"
   ]
  },
  {
   "cell_type": "code",
   "execution_count": null,
   "id": "5e22b3e4",
   "metadata": {},
   "outputs": [],
   "source": [
    "response = requests.post(endpoint, headers = headers, json=data)\n",
    "response.raise_for_status()\n",
    "result = response.json()\n",
    "result"
   ]
  },
  {
   "cell_type": "code",
   "execution_count": null,
   "id": "48079b3f",
   "metadata": {},
   "outputs": [],
   "source": [
    "prof_list = result['data']['search']['teachers']['edges']\n",
    "[fetch_info(prof) for prof in prof_list]"
   ]
  },
  {
   "cell_type": "code",
   "execution_count": null,
   "id": "9d848833",
   "metadata": {},
   "outputs": [],
   "source": [
    "cursor = result['data']['search']['teachers']['pageInfo']['endCursor']\n",
    "cursor"
   ]
  },
  {
   "cell_type": "code",
   "execution_count": null,
   "id": "1c687e89",
   "metadata": {},
   "outputs": [],
   "source": [
    "flag = result['data']['search']['teachers']['pageInfo']['hasNextPage']\n",
    "flag"
   ]
  },
  {
   "cell_type": "markdown",
   "id": "0a83b800",
   "metadata": {},
   "source": [
    "Lets formalize this. "
   ]
  },
  {
   "cell_type": "code",
   "execution_count": null,
   "id": "678585a4",
   "metadata": {},
   "outputs": [],
   "source": [
    "def fetch_profs(): \n",
    "    endpoint = 'https://www.ratemyprofessors.com/graphql'\n",
    "    headers = {\n",
    "        \"Authorization\": \"Basic dGVzdDp0ZXN0\", \n",
    "    }\n",
    "    \n",
    "    # first query\n",
    "    data = {\n",
    "        \"query\":\"query TeacherSearchResultsPageQuery(\\n  $query: TeacherSearchQuery!\\n  $schoolID: ID\\n) {\\n  search: newSearch {\\n    ...TeacherSearchPagination_search_1ZLmLD\\n  }\\n  school: node(id: $schoolID) {\\n    __typename\\n    ... on School {\\n      name\\n    }\\n    id\\n  }\\n}\\n\\nfragment TeacherSearchPagination_search_1ZLmLD on newSearch {\\n  teachers(query: $query, first: 8, after: \\\"\\\") {\\n    didFallback\\n    edges {\\n      cursor\\n      node {\\n        ...TeacherCard_teacher\\n        id\\n        __typename\\n      }\\n    }\\n    pageInfo {\\n      hasNextPage\\n      endCursor\\n    }\\n    resultCount\\n    filters {\\n      field\\n      options {\\n        value\\n        id\\n      }\\n    }\\n  }\\n}\\n\\nfragment TeacherCard_teacher on Teacher {\\n  id\\n  legacyId\\n  avgRating\\n  numRatings\\n  ...CardFeedback_teacher\\n  ...CardSchool_teacher\\n  ...CardName_teacher\\n  ...TeacherBookmark_teacher\\n}\\n\\nfragment CardFeedback_teacher on Teacher {\\n  wouldTakeAgainPercent\\n  avgDifficulty\\n}\\n\\nfragment CardSchool_teacher on Teacher {\\n  department\\n  school {\\n    name\\n    id\\n  }\\n}\\n\\nfragment CardName_teacher on Teacher {\\n  firstName\\n  lastName\\n}\\n\\nfragment TeacherBookmark_teacher on Teacher {\\n  id\\n  isSaved\\n}\\n\",\n",
    "        \"variables\":{\n",
    "            \"query\":{\n",
    "                \"text\":\"\",\n",
    "                \"schoolID\":\"U2Nob29sLTEwNzM=\",\n",
    "                \"fallback\":True,\n",
    "                \"departmentID\":\"RGVwYXJ0bWVudC0xNDA=\", \n",
    "            },\n",
    "            \"schoolID\":\"U2Nob29sLTEwNzM=\"\n",
    "        }\n",
    "    } \n",
    "    \n",
    "    response = requests.post(endpoint, headers = headers, json=data)\n",
    "    result = response.json()\n",
    "    \n",
    "    prof_list = result['data']['search']['teachers']['edges']\n",
    "    df = [fetch_info(prof) for prof in prof_list]\n",
    "    \n",
    "    cursor = result['data']['search']['teachers']['pageInfo']['endCursor']\n",
    "    \n",
    "    flag = True\n",
    "    while flag: \n",
    "        data = new_data(cursor)\n",
    "        response = requests.post(endpoint, headers = headers, json=data)\n",
    "        result = response.json()\n",
    "            \n",
    "        prof_list = result['data']['search']['teachers']['edges']\n",
    "        df.extend([fetch_info(prof) for prof in prof_list])\n",
    "        cursor = result['data']['search']['teachers']['pageInfo']['endCursor']\n",
    "\n",
    "        flag = result['data']['search']['teachers']['pageInfo']['hasNextPage']\n",
    "        \n",
    "    return df"
   ]
  },
  {
   "cell_type": "code",
   "execution_count": null,
   "id": "de5b1f87",
   "metadata": {},
   "outputs": [],
   "source": [
    "df = fetch_profs()"
   ]
  },
  {
   "cell_type": "code",
   "execution_count": null,
   "id": "e77d6d5a",
   "metadata": {},
   "outputs": [],
   "source": [
    "pd.DataFrame(df)"
   ]
  },
  {
   "cell_type": "markdown",
   "id": "d554779d",
   "metadata": {},
   "source": [
    "### Summary \n",
    "\n",
    "- `Selenium` is very useful to remote-control a browser\n",
    "- Internally, information is usually handled via APIs anyway"
   ]
  }
 ],
 "metadata": {
  "kernelspec": {
   "display_name": "Python 3 (ipykernel)",
   "language": "python",
   "name": "python3"
  },
  "language_info": {
   "codemirror_mode": {
    "name": "ipython",
    "version": 3
   },
   "file_extension": ".py",
   "mimetype": "text/x-python",
   "name": "python",
   "nbconvert_exporter": "python",
   "pygments_lexer": "ipython3",
   "version": "3.9.12"
  },
  "vscode": {
   "interpreter": {
    "hash": "b2b12ec50b0a525a62abe739e766b0c808eccd181e3f804cedbbca00f4d5b392"
   }
  }
 },
 "nbformat": 4,
 "nbformat_minor": 5
}
